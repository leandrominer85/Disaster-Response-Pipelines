{
 "cells": [
  {
   "cell_type": "code",
   "execution_count": 1,
   "metadata": {},
   "outputs": [],
   "source": [
    "from sklearn.pipeline import Pipeline, FeatureUnion\n",
    "from sklearn.feature_extraction.text import CountVectorizer, TfidfTransformer\n",
    "from sklearn.multioutput import MultiOutputClassifier\n",
    "from sklearn.neighbors import KNeighborsClassifier\n",
    "from sklearn.model_selection import train_test_split\n",
    "from sklearn.metrics import f1_score\n",
    "from sklearn.metrics import classification_report , accuracy_score\n",
    "from sklearn.model_selection import GridSearchCV\n",
    "import pandas as pd"
   ]
  },
  {
   "cell_type": "code",
   "execution_count": 3,
   "metadata": {},
   "outputs": [],
   "source": [
    "class Pipeline_scorer:\n",
    "    \n",
    "        def __init__ (self, parameters_grid,classifier):\n",
    "            self.parameters_grid = parameters_grid\n",
    "            self.classifier = classifier\n",
    "        \n",
    "        def pipeline(self, X_train,y_train,X_test,y_test,jobs,\n",
    "                     score=f1_score,average = 'weighted', scoring ='f1_micro',transformer = TfidfTransformer()):\n",
    "        \n",
    "            pipeline = Pipeline([\n",
    "                ('features', FeatureUnion([\n",
    "\n",
    "                    ('text_pipeline', Pipeline([\n",
    "                        ('vect', CountVectorizer()),\n",
    "                        ('transformer', transformer)\n",
    "                    ]))            \n",
    "                ])),\n",
    "                ('clf', MultiOutputClassifier(self.classifier))\n",
    "            ])\n",
    "\n",
    "            cv = GridSearchCV(pipeline, param_grid=self.parameters_grid, scoring=scoring, n_jobs=jobs)\n",
    "            cv.fit(X_train, y_train)\n",
    "            self.y_pred = cv.predict(X_test)\n",
    "            self.y_test = y_test\n",
    "            print(cv.best_params_)\n",
    "\n",
    "    \n",
    "        def report(self, average = 'weighted', score=f1_score):\n",
    "            report = {}\n",
    "            for n, col in enumerate(self.y_test.columns):\n",
    "                output = classification_report(self.y_test[col], self.y_pred[:,n], output_dict=True)\n",
    "                report[col] = {}\n",
    "                for i in output:   \n",
    "                    if i == 'accuracy':\n",
    "                        break\n",
    "                    report[col]['f1_' + i] = output[i]['f1-score']\n",
    "                    report[col]['precision_' + i] = output[i]['precision']\n",
    "                    report[col]['recall_' + i] = output[i]['recall']\n",
    "\n",
    "            report_df = pd.DataFrame(report).transpose()\n",
    "            report_df = report_df[report_df.columns.sort_values()]\n",
    "            report_df_mean = report_df.mean()\n",
    "\n",
    "            print(\"Table for each column:\")\n",
    "            print (report_df)\n",
    "            print('\\n')\n",
    "            print('mean of results:')\n",
    "            print(report_df_mean)\n",
    "            print('\\n')\n",
    "            print('{} ({}): {}'.format(score, average, score(self.y_test, self.y_pred, average=average)))"
   ]
  },
  {
   "cell_type": "code",
   "execution_count": null,
   "metadata": {},
   "outputs": [],
   "source": []
  }
 ],
 "metadata": {
  "kernelspec": {
   "display_name": "Python 3",
   "language": "python",
   "name": "python3"
  },
  "language_info": {
   "codemirror_mode": {
    "name": "ipython",
    "version": 3
   },
   "file_extension": ".py",
   "mimetype": "text/x-python",
   "name": "python",
   "nbconvert_exporter": "python",
   "pygments_lexer": "ipython3",
   "version": "3.8.5"
  }
 },
 "nbformat": 4,
 "nbformat_minor": 4
}
