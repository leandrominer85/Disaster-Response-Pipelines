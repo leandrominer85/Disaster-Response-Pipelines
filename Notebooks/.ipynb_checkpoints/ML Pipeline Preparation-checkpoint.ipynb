{
 "cells": [
  {
   "cell_type": "markdown",
   "metadata": {},
   "source": [
    "# ML Pipeline Preparation\n",
    "Follow the instructions below to help you create your ML pipeline.\n",
    "### 1. Import libraries and load data from database.\n",
    "- Import Python libraries\n",
    "- Load dataset from database with [`read_sql_table`](https://pandas.pydata.org/pandas-docs/stable/generated/pandas.read_sql_table.html)\n",
    "- Define feature and target variables X and Y"
   ]
  },
  {
   "cell_type": "code",
   "execution_count": 1,
   "metadata": {},
   "outputs": [
    {
     "name": "stderr",
     "output_type": "stream",
     "text": [
      "[nltk_data] Downloading package stopwords to\n",
      "[nltk_data]     C:\\Users\\eppmi\\AppData\\Roaming\\nltk_data...\n",
      "[nltk_data]   Package stopwords is already up-to-date!\n",
      "[nltk_data] Downloading package wordnet to\n",
      "[nltk_data]     C:\\Users\\eppmi\\AppData\\Roaming\\nltk_data...\n",
      "[nltk_data]   Package wordnet is already up-to-date!\n"
     ]
    }
   ],
   "source": [
    "# import libraries\n",
    "import pandas as pd\n",
    "import numpy as np\n",
    "from sqlalchemy import create_engine\n",
    "from nltk.tokenize import word_tokenize\n",
    "from nltk.stem import WordNetLemmatizer\n",
    "import re\n",
    "import nltk\n",
    "from nltk.stem.porter import PorterStemmer\n",
    "nltk.download('stopwords')\n",
    "from nltk.corpus import stopwords\n",
    "nltk.download('wordnet')\n",
    "from sklearn.pipeline import Pipeline, FeatureUnion\n",
    "from sklearn.feature_extraction.text import CountVectorizer, TfidfTransformer\n",
    "from sklearn.multioutput import MultiOutputClassifier\n",
    "from sklearn.neighbors import KNeighborsClassifier\n",
    "from sklearn.model_selection import train_test_split\n",
    "from sklearn.metrics import f1_score\n",
    "from sklearn.metrics import classification_report , accuracy_score\n",
    "from sklearn.model_selection import GridSearchCV\n",
    "from sklearn.ensemble import RandomForestClassifier, AdaBoostClassifier, GradientBoostingClassifier\n",
    "import pickle\n",
    "pd.set_option('display.max_columns', 500)"
   ]
  },
  {
   "cell_type": "code",
   "execution_count": 4,
   "metadata": {},
   "outputs": [
    {
     "ename": "OperationalError",
     "evalue": "(sqlite3.OperationalError) unable to open database file\n(Background on this error at: http://sqlalche.me/e/13/e3q8)",
     "output_type": "error",
     "traceback": [
      "\u001b[1;31m---------------------------------------------------------------------------\u001b[0m",
      "\u001b[1;31mOperationalError\u001b[0m                          Traceback (most recent call last)",
      "\u001b[1;32m~\\Anaconda3\\lib\\site-packages\\sqlalchemy\\engine\\base.py\u001b[0m in \u001b[0;36m_wrap_pool_connect\u001b[1;34m(self, fn, connection)\u001b[0m\n\u001b[0;32m   2335\u001b[0m         \u001b[1;32mtry\u001b[0m\u001b[1;33m:\u001b[0m\u001b[1;33m\u001b[0m\u001b[1;33m\u001b[0m\u001b[0m\n\u001b[1;32m-> 2336\u001b[1;33m             \u001b[1;32mreturn\u001b[0m \u001b[0mfn\u001b[0m\u001b[1;33m(\u001b[0m\u001b[1;33m)\u001b[0m\u001b[1;33m\u001b[0m\u001b[1;33m\u001b[0m\u001b[0m\n\u001b[0m\u001b[0;32m   2337\u001b[0m         \u001b[1;32mexcept\u001b[0m \u001b[0mdialect\u001b[0m\u001b[1;33m.\u001b[0m\u001b[0mdbapi\u001b[0m\u001b[1;33m.\u001b[0m\u001b[0mError\u001b[0m \u001b[1;32mas\u001b[0m \u001b[0me\u001b[0m\u001b[1;33m:\u001b[0m\u001b[1;33m\u001b[0m\u001b[1;33m\u001b[0m\u001b[0m\n",
      "\u001b[1;32m~\\Anaconda3\\lib\\site-packages\\sqlalchemy\\pool\\base.py\u001b[0m in \u001b[0;36mconnect\u001b[1;34m(self)\u001b[0m\n\u001b[0;32m    363\u001b[0m         \u001b[1;32mif\u001b[0m \u001b[1;32mnot\u001b[0m \u001b[0mself\u001b[0m\u001b[1;33m.\u001b[0m\u001b[0m_use_threadlocal\u001b[0m\u001b[1;33m:\u001b[0m\u001b[1;33m\u001b[0m\u001b[1;33m\u001b[0m\u001b[0m\n\u001b[1;32m--> 364\u001b[1;33m             \u001b[1;32mreturn\u001b[0m \u001b[0m_ConnectionFairy\u001b[0m\u001b[1;33m.\u001b[0m\u001b[0m_checkout\u001b[0m\u001b[1;33m(\u001b[0m\u001b[0mself\u001b[0m\u001b[1;33m)\u001b[0m\u001b[1;33m\u001b[0m\u001b[1;33m\u001b[0m\u001b[0m\n\u001b[0m\u001b[0;32m    365\u001b[0m \u001b[1;33m\u001b[0m\u001b[0m\n",
      "\u001b[1;32m~\\Anaconda3\\lib\\site-packages\\sqlalchemy\\pool\\base.py\u001b[0m in \u001b[0;36m_checkout\u001b[1;34m(cls, pool, threadconns, fairy)\u001b[0m\n\u001b[0;32m    777\u001b[0m         \u001b[1;32mif\u001b[0m \u001b[1;32mnot\u001b[0m \u001b[0mfairy\u001b[0m\u001b[1;33m:\u001b[0m\u001b[1;33m\u001b[0m\u001b[1;33m\u001b[0m\u001b[0m\n\u001b[1;32m--> 778\u001b[1;33m             \u001b[0mfairy\u001b[0m \u001b[1;33m=\u001b[0m \u001b[0m_ConnectionRecord\u001b[0m\u001b[1;33m.\u001b[0m\u001b[0mcheckout\u001b[0m\u001b[1;33m(\u001b[0m\u001b[0mpool\u001b[0m\u001b[1;33m)\u001b[0m\u001b[1;33m\u001b[0m\u001b[1;33m\u001b[0m\u001b[0m\n\u001b[0m\u001b[0;32m    779\u001b[0m \u001b[1;33m\u001b[0m\u001b[0m\n",
      "\u001b[1;32m~\\Anaconda3\\lib\\site-packages\\sqlalchemy\\pool\\base.py\u001b[0m in \u001b[0;36mcheckout\u001b[1;34m(cls, pool)\u001b[0m\n\u001b[0;32m    494\u001b[0m     \u001b[1;32mdef\u001b[0m \u001b[0mcheckout\u001b[0m\u001b[1;33m(\u001b[0m\u001b[0mcls\u001b[0m\u001b[1;33m,\u001b[0m \u001b[0mpool\u001b[0m\u001b[1;33m)\u001b[0m\u001b[1;33m:\u001b[0m\u001b[1;33m\u001b[0m\u001b[1;33m\u001b[0m\u001b[0m\n\u001b[1;32m--> 495\u001b[1;33m         \u001b[0mrec\u001b[0m \u001b[1;33m=\u001b[0m \u001b[0mpool\u001b[0m\u001b[1;33m.\u001b[0m\u001b[0m_do_get\u001b[0m\u001b[1;33m(\u001b[0m\u001b[1;33m)\u001b[0m\u001b[1;33m\u001b[0m\u001b[1;33m\u001b[0m\u001b[0m\n\u001b[0m\u001b[0;32m    496\u001b[0m         \u001b[1;32mtry\u001b[0m\u001b[1;33m:\u001b[0m\u001b[1;33m\u001b[0m\u001b[1;33m\u001b[0m\u001b[0m\n",
      "\u001b[1;32m~\\Anaconda3\\lib\\site-packages\\sqlalchemy\\pool\\impl.py\u001b[0m in \u001b[0;36m_do_get\u001b[1;34m(self)\u001b[0m\n\u001b[0;32m    240\u001b[0m     \u001b[1;32mdef\u001b[0m \u001b[0m_do_get\u001b[0m\u001b[1;33m(\u001b[0m\u001b[0mself\u001b[0m\u001b[1;33m)\u001b[0m\u001b[1;33m:\u001b[0m\u001b[1;33m\u001b[0m\u001b[1;33m\u001b[0m\u001b[0m\n\u001b[1;32m--> 241\u001b[1;33m         \u001b[1;32mreturn\u001b[0m \u001b[0mself\u001b[0m\u001b[1;33m.\u001b[0m\u001b[0m_create_connection\u001b[0m\u001b[1;33m(\u001b[0m\u001b[1;33m)\u001b[0m\u001b[1;33m\u001b[0m\u001b[1;33m\u001b[0m\u001b[0m\n\u001b[0m\u001b[0;32m    242\u001b[0m \u001b[1;33m\u001b[0m\u001b[0m\n",
      "\u001b[1;32m~\\Anaconda3\\lib\\site-packages\\sqlalchemy\\pool\\base.py\u001b[0m in \u001b[0;36m_create_connection\u001b[1;34m(self)\u001b[0m\n\u001b[0;32m    308\u001b[0m \u001b[1;33m\u001b[0m\u001b[0m\n\u001b[1;32m--> 309\u001b[1;33m         \u001b[1;32mreturn\u001b[0m \u001b[0m_ConnectionRecord\u001b[0m\u001b[1;33m(\u001b[0m\u001b[0mself\u001b[0m\u001b[1;33m)\u001b[0m\u001b[1;33m\u001b[0m\u001b[1;33m\u001b[0m\u001b[0m\n\u001b[0m\u001b[0;32m    310\u001b[0m \u001b[1;33m\u001b[0m\u001b[0m\n",
      "\u001b[1;32m~\\Anaconda3\\lib\\site-packages\\sqlalchemy\\pool\\base.py\u001b[0m in \u001b[0;36m__init__\u001b[1;34m(self, pool, connect)\u001b[0m\n\u001b[0;32m    439\u001b[0m         \u001b[1;32mif\u001b[0m \u001b[0mconnect\u001b[0m\u001b[1;33m:\u001b[0m\u001b[1;33m\u001b[0m\u001b[1;33m\u001b[0m\u001b[0m\n\u001b[1;32m--> 440\u001b[1;33m             \u001b[0mself\u001b[0m\u001b[1;33m.\u001b[0m\u001b[0m__connect\u001b[0m\u001b[1;33m(\u001b[0m\u001b[0mfirst_connect_check\u001b[0m\u001b[1;33m=\u001b[0m\u001b[1;32mTrue\u001b[0m\u001b[1;33m)\u001b[0m\u001b[1;33m\u001b[0m\u001b[1;33m\u001b[0m\u001b[0m\n\u001b[0m\u001b[0;32m    441\u001b[0m         \u001b[0mself\u001b[0m\u001b[1;33m.\u001b[0m\u001b[0mfinalize_callback\u001b[0m \u001b[1;33m=\u001b[0m \u001b[0mdeque\u001b[0m\u001b[1;33m(\u001b[0m\u001b[1;33m)\u001b[0m\u001b[1;33m\u001b[0m\u001b[1;33m\u001b[0m\u001b[0m\n",
      "\u001b[1;32m~\\Anaconda3\\lib\\site-packages\\sqlalchemy\\pool\\base.py\u001b[0m in \u001b[0;36m__connect\u001b[1;34m(self, first_connect_check)\u001b[0m\n\u001b[0;32m    660\u001b[0m             \u001b[1;32mwith\u001b[0m \u001b[0mutil\u001b[0m\u001b[1;33m.\u001b[0m\u001b[0msafe_reraise\u001b[0m\u001b[1;33m(\u001b[0m\u001b[1;33m)\u001b[0m\u001b[1;33m:\u001b[0m\u001b[1;33m\u001b[0m\u001b[1;33m\u001b[0m\u001b[0m\n\u001b[1;32m--> 661\u001b[1;33m                 \u001b[0mpool\u001b[0m\u001b[1;33m.\u001b[0m\u001b[0mlogger\u001b[0m\u001b[1;33m.\u001b[0m\u001b[0mdebug\u001b[0m\u001b[1;33m(\u001b[0m\u001b[1;34m\"Error on connect(): %s\"\u001b[0m\u001b[1;33m,\u001b[0m \u001b[0me\u001b[0m\u001b[1;33m)\u001b[0m\u001b[1;33m\u001b[0m\u001b[1;33m\u001b[0m\u001b[0m\n\u001b[0m\u001b[0;32m    662\u001b[0m         \u001b[1;32melse\u001b[0m\u001b[1;33m:\u001b[0m\u001b[1;33m\u001b[0m\u001b[1;33m\u001b[0m\u001b[0m\n",
      "\u001b[1;32m~\\Anaconda3\\lib\\site-packages\\sqlalchemy\\util\\langhelpers.py\u001b[0m in \u001b[0;36m__exit__\u001b[1;34m(self, type_, value, traceback)\u001b[0m\n\u001b[0;32m     67\u001b[0m             \u001b[1;32mif\u001b[0m \u001b[1;32mnot\u001b[0m \u001b[0mself\u001b[0m\u001b[1;33m.\u001b[0m\u001b[0mwarn_only\u001b[0m\u001b[1;33m:\u001b[0m\u001b[1;33m\u001b[0m\u001b[1;33m\u001b[0m\u001b[0m\n\u001b[1;32m---> 68\u001b[1;33m                 compat.raise_(\n\u001b[0m\u001b[0;32m     69\u001b[0m                     \u001b[0mexc_value\u001b[0m\u001b[1;33m,\u001b[0m\u001b[1;33m\u001b[0m\u001b[1;33m\u001b[0m\u001b[0m\n",
      "\u001b[1;32m~\\Anaconda3\\lib\\site-packages\\sqlalchemy\\util\\compat.py\u001b[0m in \u001b[0;36mraise_\u001b[1;34m(***failed resolving arguments***)\u001b[0m\n\u001b[0;32m    181\u001b[0m         \u001b[1;32mtry\u001b[0m\u001b[1;33m:\u001b[0m\u001b[1;33m\u001b[0m\u001b[1;33m\u001b[0m\u001b[0m\n\u001b[1;32m--> 182\u001b[1;33m             \u001b[1;32mraise\u001b[0m \u001b[0mexception\u001b[0m\u001b[1;33m\u001b[0m\u001b[1;33m\u001b[0m\u001b[0m\n\u001b[0m\u001b[0;32m    183\u001b[0m         \u001b[1;32mfinally\u001b[0m\u001b[1;33m:\u001b[0m\u001b[1;33m\u001b[0m\u001b[1;33m\u001b[0m\u001b[0m\n",
      "\u001b[1;32m~\\Anaconda3\\lib\\site-packages\\sqlalchemy\\pool\\base.py\u001b[0m in \u001b[0;36m__connect\u001b[1;34m(self, first_connect_check)\u001b[0m\n\u001b[0;32m    655\u001b[0m             \u001b[0mself\u001b[0m\u001b[1;33m.\u001b[0m\u001b[0mstarttime\u001b[0m \u001b[1;33m=\u001b[0m \u001b[0mtime\u001b[0m\u001b[1;33m.\u001b[0m\u001b[0mtime\u001b[0m\u001b[1;33m(\u001b[0m\u001b[1;33m)\u001b[0m\u001b[1;33m\u001b[0m\u001b[1;33m\u001b[0m\u001b[0m\n\u001b[1;32m--> 656\u001b[1;33m             \u001b[0mconnection\u001b[0m \u001b[1;33m=\u001b[0m \u001b[0mpool\u001b[0m\u001b[1;33m.\u001b[0m\u001b[0m_invoke_creator\u001b[0m\u001b[1;33m(\u001b[0m\u001b[0mself\u001b[0m\u001b[1;33m)\u001b[0m\u001b[1;33m\u001b[0m\u001b[1;33m\u001b[0m\u001b[0m\n\u001b[0m\u001b[0;32m    657\u001b[0m             \u001b[0mpool\u001b[0m\u001b[1;33m.\u001b[0m\u001b[0mlogger\u001b[0m\u001b[1;33m.\u001b[0m\u001b[0mdebug\u001b[0m\u001b[1;33m(\u001b[0m\u001b[1;34m\"Created new connection %r\"\u001b[0m\u001b[1;33m,\u001b[0m \u001b[0mconnection\u001b[0m\u001b[1;33m)\u001b[0m\u001b[1;33m\u001b[0m\u001b[1;33m\u001b[0m\u001b[0m\n",
      "\u001b[1;32m~\\Anaconda3\\lib\\site-packages\\sqlalchemy\\engine\\strategies.py\u001b[0m in \u001b[0;36mconnect\u001b[1;34m(connection_record)\u001b[0m\n\u001b[0;32m    113\u001b[0m                             \u001b[1;32mreturn\u001b[0m \u001b[0mconnection\u001b[0m\u001b[1;33m\u001b[0m\u001b[1;33m\u001b[0m\u001b[0m\n\u001b[1;32m--> 114\u001b[1;33m                 \u001b[1;32mreturn\u001b[0m \u001b[0mdialect\u001b[0m\u001b[1;33m.\u001b[0m\u001b[0mconnect\u001b[0m\u001b[1;33m(\u001b[0m\u001b[1;33m*\u001b[0m\u001b[0mcargs\u001b[0m\u001b[1;33m,\u001b[0m \u001b[1;33m**\u001b[0m\u001b[0mcparams\u001b[0m\u001b[1;33m)\u001b[0m\u001b[1;33m\u001b[0m\u001b[1;33m\u001b[0m\u001b[0m\n\u001b[0m\u001b[0;32m    115\u001b[0m \u001b[1;33m\u001b[0m\u001b[0m\n",
      "\u001b[1;32m~\\Anaconda3\\lib\\site-packages\\sqlalchemy\\engine\\default.py\u001b[0m in \u001b[0;36mconnect\u001b[1;34m(self, *cargs, **cparams)\u001b[0m\n\u001b[0;32m    492\u001b[0m         \u001b[1;31m# inherits the docstring from interfaces.Dialect.connect\u001b[0m\u001b[1;33m\u001b[0m\u001b[1;33m\u001b[0m\u001b[1;33m\u001b[0m\u001b[0m\n\u001b[1;32m--> 493\u001b[1;33m         \u001b[1;32mreturn\u001b[0m \u001b[0mself\u001b[0m\u001b[1;33m.\u001b[0m\u001b[0mdbapi\u001b[0m\u001b[1;33m.\u001b[0m\u001b[0mconnect\u001b[0m\u001b[1;33m(\u001b[0m\u001b[1;33m*\u001b[0m\u001b[0mcargs\u001b[0m\u001b[1;33m,\u001b[0m \u001b[1;33m**\u001b[0m\u001b[0mcparams\u001b[0m\u001b[1;33m)\u001b[0m\u001b[1;33m\u001b[0m\u001b[1;33m\u001b[0m\u001b[0m\n\u001b[0m\u001b[0;32m    494\u001b[0m \u001b[1;33m\u001b[0m\u001b[0m\n",
      "\u001b[1;31mOperationalError\u001b[0m: unable to open database file",
      "\nThe above exception was the direct cause of the following exception:\n",
      "\u001b[1;31mOperationalError\u001b[0m                          Traceback (most recent call last)",
      "\u001b[1;32m<ipython-input-4-6e15490b9741>\u001b[0m in \u001b[0;36m<module>\u001b[1;34m\u001b[0m\n\u001b[0;32m      3\u001b[0m \u001b[1;33m\u001b[0m\u001b[0m\n\u001b[0;32m      4\u001b[0m \u001b[1;33m\u001b[0m\u001b[0m\n\u001b[1;32m----> 5\u001b[1;33m \u001b[0mdf\u001b[0m \u001b[1;33m=\u001b[0m \u001b[0mpd\u001b[0m\u001b[1;33m.\u001b[0m\u001b[0mread_sql\u001b[0m\u001b[1;33m(\u001b[0m\u001b[1;34m'SELECT * FROM Disaster'\u001b[0m\u001b[1;33m,\u001b[0m \u001b[0mcon\u001b[0m \u001b[1;33m=\u001b[0m \u001b[0mengine\u001b[0m\u001b[1;33m)\u001b[0m\u001b[1;33m\u001b[0m\u001b[1;33m\u001b[0m\u001b[0m\n\u001b[0m\u001b[0;32m      6\u001b[0m \u001b[1;33m\u001b[0m\u001b[0m\n\u001b[0;32m      7\u001b[0m \u001b[1;33m\u001b[0m\u001b[0m\n",
      "\u001b[1;32m~\\Anaconda3\\lib\\site-packages\\pandas\\io\\sql.py\u001b[0m in \u001b[0;36mread_sql\u001b[1;34m(sql, con, index_col, coerce_float, params, parse_dates, columns, chunksize)\u001b[0m\n\u001b[0;32m    507\u001b[0m         )\n\u001b[0;32m    508\u001b[0m     \u001b[1;32melse\u001b[0m\u001b[1;33m:\u001b[0m\u001b[1;33m\u001b[0m\u001b[1;33m\u001b[0m\u001b[0m\n\u001b[1;32m--> 509\u001b[1;33m         return pandas_sql.read_query(\n\u001b[0m\u001b[0;32m    510\u001b[0m             \u001b[0msql\u001b[0m\u001b[1;33m,\u001b[0m\u001b[1;33m\u001b[0m\u001b[1;33m\u001b[0m\u001b[0m\n\u001b[0;32m    511\u001b[0m             \u001b[0mindex_col\u001b[0m\u001b[1;33m=\u001b[0m\u001b[0mindex_col\u001b[0m\u001b[1;33m,\u001b[0m\u001b[1;33m\u001b[0m\u001b[1;33m\u001b[0m\u001b[0m\n",
      "\u001b[1;32m~\\Anaconda3\\lib\\site-packages\\pandas\\io\\sql.py\u001b[0m in \u001b[0;36mread_query\u001b[1;34m(self, sql, index_col, coerce_float, parse_dates, params, chunksize)\u001b[0m\n\u001b[0;32m   1293\u001b[0m         \u001b[0margs\u001b[0m \u001b[1;33m=\u001b[0m \u001b[0m_convert_params\u001b[0m\u001b[1;33m(\u001b[0m\u001b[0msql\u001b[0m\u001b[1;33m,\u001b[0m \u001b[0mparams\u001b[0m\u001b[1;33m)\u001b[0m\u001b[1;33m\u001b[0m\u001b[1;33m\u001b[0m\u001b[0m\n\u001b[0;32m   1294\u001b[0m \u001b[1;33m\u001b[0m\u001b[0m\n\u001b[1;32m-> 1295\u001b[1;33m         \u001b[0mresult\u001b[0m \u001b[1;33m=\u001b[0m \u001b[0mself\u001b[0m\u001b[1;33m.\u001b[0m\u001b[0mexecute\u001b[0m\u001b[1;33m(\u001b[0m\u001b[1;33m*\u001b[0m\u001b[0margs\u001b[0m\u001b[1;33m)\u001b[0m\u001b[1;33m\u001b[0m\u001b[1;33m\u001b[0m\u001b[0m\n\u001b[0m\u001b[0;32m   1296\u001b[0m         \u001b[0mcolumns\u001b[0m \u001b[1;33m=\u001b[0m \u001b[0mresult\u001b[0m\u001b[1;33m.\u001b[0m\u001b[0mkeys\u001b[0m\u001b[1;33m(\u001b[0m\u001b[1;33m)\u001b[0m\u001b[1;33m\u001b[0m\u001b[1;33m\u001b[0m\u001b[0m\n\u001b[0;32m   1297\u001b[0m \u001b[1;33m\u001b[0m\u001b[0m\n",
      "\u001b[1;32m~\\Anaconda3\\lib\\site-packages\\pandas\\io\\sql.py\u001b[0m in \u001b[0;36mexecute\u001b[1;34m(self, *args, **kwargs)\u001b[0m\n\u001b[0;32m   1159\u001b[0m     \u001b[1;32mdef\u001b[0m \u001b[0mexecute\u001b[0m\u001b[1;33m(\u001b[0m\u001b[0mself\u001b[0m\u001b[1;33m,\u001b[0m \u001b[1;33m*\u001b[0m\u001b[0margs\u001b[0m\u001b[1;33m,\u001b[0m \u001b[1;33m**\u001b[0m\u001b[0mkwargs\u001b[0m\u001b[1;33m)\u001b[0m\u001b[1;33m:\u001b[0m\u001b[1;33m\u001b[0m\u001b[1;33m\u001b[0m\u001b[0m\n\u001b[0;32m   1160\u001b[0m         \u001b[1;34m\"\"\"Simple passthrough to SQLAlchemy connectable\"\"\"\u001b[0m\u001b[1;33m\u001b[0m\u001b[1;33m\u001b[0m\u001b[0m\n\u001b[1;32m-> 1161\u001b[1;33m         return self.connectable.execution_options(no_parameters=True).execute(\n\u001b[0m\u001b[0;32m   1162\u001b[0m             \u001b[1;33m*\u001b[0m\u001b[0margs\u001b[0m\u001b[1;33m,\u001b[0m \u001b[1;33m**\u001b[0m\u001b[0mkwargs\u001b[0m\u001b[1;33m\u001b[0m\u001b[1;33m\u001b[0m\u001b[0m\n\u001b[0;32m   1163\u001b[0m         )\n",
      "\u001b[1;32m~\\Anaconda3\\lib\\site-packages\\sqlalchemy\\engine\\base.py\u001b[0m in \u001b[0;36mexecute\u001b[1;34m(self, statement, *multiparams, **params)\u001b[0m\n\u001b[0;32m   2232\u001b[0m         \"\"\"\n\u001b[0;32m   2233\u001b[0m \u001b[1;33m\u001b[0m\u001b[0m\n\u001b[1;32m-> 2234\u001b[1;33m         \u001b[0mconnection\u001b[0m \u001b[1;33m=\u001b[0m \u001b[0mself\u001b[0m\u001b[1;33m.\u001b[0m\u001b[0m_contextual_connect\u001b[0m\u001b[1;33m(\u001b[0m\u001b[0mclose_with_result\u001b[0m\u001b[1;33m=\u001b[0m\u001b[1;32mTrue\u001b[0m\u001b[1;33m)\u001b[0m\u001b[1;33m\u001b[0m\u001b[1;33m\u001b[0m\u001b[0m\n\u001b[0m\u001b[0;32m   2235\u001b[0m         \u001b[1;32mreturn\u001b[0m \u001b[0mconnection\u001b[0m\u001b[1;33m.\u001b[0m\u001b[0mexecute\u001b[0m\u001b[1;33m(\u001b[0m\u001b[0mstatement\u001b[0m\u001b[1;33m,\u001b[0m \u001b[1;33m*\u001b[0m\u001b[0mmultiparams\u001b[0m\u001b[1;33m,\u001b[0m \u001b[1;33m**\u001b[0m\u001b[0mparams\u001b[0m\u001b[1;33m)\u001b[0m\u001b[1;33m\u001b[0m\u001b[1;33m\u001b[0m\u001b[0m\n\u001b[0;32m   2236\u001b[0m \u001b[1;33m\u001b[0m\u001b[0m\n",
      "\u001b[1;32m~\\Anaconda3\\lib\\site-packages\\sqlalchemy\\engine\\base.py\u001b[0m in \u001b[0;36m_contextual_connect\u001b[1;34m(self, close_with_result, **kwargs)\u001b[0m\n\u001b[0;32m   2300\u001b[0m         return self._connection_cls(\n\u001b[0;32m   2301\u001b[0m             \u001b[0mself\u001b[0m\u001b[1;33m,\u001b[0m\u001b[1;33m\u001b[0m\u001b[1;33m\u001b[0m\u001b[0m\n\u001b[1;32m-> 2302\u001b[1;33m             \u001b[0mself\u001b[0m\u001b[1;33m.\u001b[0m\u001b[0m_wrap_pool_connect\u001b[0m\u001b[1;33m(\u001b[0m\u001b[0mself\u001b[0m\u001b[1;33m.\u001b[0m\u001b[0mpool\u001b[0m\u001b[1;33m.\u001b[0m\u001b[0mconnect\u001b[0m\u001b[1;33m,\u001b[0m \u001b[1;32mNone\u001b[0m\u001b[1;33m)\u001b[0m\u001b[1;33m,\u001b[0m\u001b[1;33m\u001b[0m\u001b[1;33m\u001b[0m\u001b[0m\n\u001b[0m\u001b[0;32m   2303\u001b[0m             \u001b[0mclose_with_result\u001b[0m\u001b[1;33m=\u001b[0m\u001b[0mclose_with_result\u001b[0m\u001b[1;33m,\u001b[0m\u001b[1;33m\u001b[0m\u001b[1;33m\u001b[0m\u001b[0m\n\u001b[0;32m   2304\u001b[0m             \u001b[1;33m**\u001b[0m\u001b[0mkwargs\u001b[0m\u001b[1;33m\u001b[0m\u001b[1;33m\u001b[0m\u001b[0m\n",
      "\u001b[1;32m~\\Anaconda3\\lib\\site-packages\\sqlalchemy\\engine\\base.py\u001b[0m in \u001b[0;36m_wrap_pool_connect\u001b[1;34m(self, fn, connection)\u001b[0m\n\u001b[0;32m   2337\u001b[0m         \u001b[1;32mexcept\u001b[0m \u001b[0mdialect\u001b[0m\u001b[1;33m.\u001b[0m\u001b[0mdbapi\u001b[0m\u001b[1;33m.\u001b[0m\u001b[0mError\u001b[0m \u001b[1;32mas\u001b[0m \u001b[0me\u001b[0m\u001b[1;33m:\u001b[0m\u001b[1;33m\u001b[0m\u001b[1;33m\u001b[0m\u001b[0m\n\u001b[0;32m   2338\u001b[0m             \u001b[1;32mif\u001b[0m \u001b[0mconnection\u001b[0m \u001b[1;32mis\u001b[0m \u001b[1;32mNone\u001b[0m\u001b[1;33m:\u001b[0m\u001b[1;33m\u001b[0m\u001b[1;33m\u001b[0m\u001b[0m\n\u001b[1;32m-> 2339\u001b[1;33m                 Connection._handle_dbapi_exception_noconnection(\n\u001b[0m\u001b[0;32m   2340\u001b[0m                     \u001b[0me\u001b[0m\u001b[1;33m,\u001b[0m \u001b[0mdialect\u001b[0m\u001b[1;33m,\u001b[0m \u001b[0mself\u001b[0m\u001b[1;33m\u001b[0m\u001b[1;33m\u001b[0m\u001b[0m\n\u001b[0;32m   2341\u001b[0m                 )\n",
      "\u001b[1;32m~\\Anaconda3\\lib\\site-packages\\sqlalchemy\\engine\\base.py\u001b[0m in \u001b[0;36m_handle_dbapi_exception_noconnection\u001b[1;34m(cls, e, dialect, engine)\u001b[0m\n\u001b[0;32m   1581\u001b[0m             \u001b[0mutil\u001b[0m\u001b[1;33m.\u001b[0m\u001b[0mraise_\u001b[0m\u001b[1;33m(\u001b[0m\u001b[0mnewraise\u001b[0m\u001b[1;33m,\u001b[0m \u001b[0mwith_traceback\u001b[0m\u001b[1;33m=\u001b[0m\u001b[0mexc_info\u001b[0m\u001b[1;33m[\u001b[0m\u001b[1;36m2\u001b[0m\u001b[1;33m]\u001b[0m\u001b[1;33m,\u001b[0m \u001b[0mfrom_\u001b[0m\u001b[1;33m=\u001b[0m\u001b[0me\u001b[0m\u001b[1;33m)\u001b[0m\u001b[1;33m\u001b[0m\u001b[1;33m\u001b[0m\u001b[0m\n\u001b[0;32m   1582\u001b[0m         \u001b[1;32melif\u001b[0m \u001b[0mshould_wrap\u001b[0m\u001b[1;33m:\u001b[0m\u001b[1;33m\u001b[0m\u001b[1;33m\u001b[0m\u001b[0m\n\u001b[1;32m-> 1583\u001b[1;33m             util.raise_(\n\u001b[0m\u001b[0;32m   1584\u001b[0m                 \u001b[0msqlalchemy_exception\u001b[0m\u001b[1;33m,\u001b[0m \u001b[0mwith_traceback\u001b[0m\u001b[1;33m=\u001b[0m\u001b[0mexc_info\u001b[0m\u001b[1;33m[\u001b[0m\u001b[1;36m2\u001b[0m\u001b[1;33m]\u001b[0m\u001b[1;33m,\u001b[0m \u001b[0mfrom_\u001b[0m\u001b[1;33m=\u001b[0m\u001b[0me\u001b[0m\u001b[1;33m\u001b[0m\u001b[1;33m\u001b[0m\u001b[0m\n\u001b[0;32m   1585\u001b[0m             )\n",
      "\u001b[1;32m~\\Anaconda3\\lib\\site-packages\\sqlalchemy\\util\\compat.py\u001b[0m in \u001b[0;36mraise_\u001b[1;34m(***failed resolving arguments***)\u001b[0m\n\u001b[0;32m    180\u001b[0m \u001b[1;33m\u001b[0m\u001b[0m\n\u001b[0;32m    181\u001b[0m         \u001b[1;32mtry\u001b[0m\u001b[1;33m:\u001b[0m\u001b[1;33m\u001b[0m\u001b[1;33m\u001b[0m\u001b[0m\n\u001b[1;32m--> 182\u001b[1;33m             \u001b[1;32mraise\u001b[0m \u001b[0mexception\u001b[0m\u001b[1;33m\u001b[0m\u001b[1;33m\u001b[0m\u001b[0m\n\u001b[0m\u001b[0;32m    183\u001b[0m         \u001b[1;32mfinally\u001b[0m\u001b[1;33m:\u001b[0m\u001b[1;33m\u001b[0m\u001b[1;33m\u001b[0m\u001b[0m\n\u001b[0;32m    184\u001b[0m             \u001b[1;31m# credit to\u001b[0m\u001b[1;33m\u001b[0m\u001b[1;33m\u001b[0m\u001b[1;33m\u001b[0m\u001b[0m\n",
      "\u001b[1;32m~\\Anaconda3\\lib\\site-packages\\sqlalchemy\\engine\\base.py\u001b[0m in \u001b[0;36m_wrap_pool_connect\u001b[1;34m(self, fn, connection)\u001b[0m\n\u001b[0;32m   2334\u001b[0m         \u001b[0mdialect\u001b[0m \u001b[1;33m=\u001b[0m \u001b[0mself\u001b[0m\u001b[1;33m.\u001b[0m\u001b[0mdialect\u001b[0m\u001b[1;33m\u001b[0m\u001b[1;33m\u001b[0m\u001b[0m\n\u001b[0;32m   2335\u001b[0m         \u001b[1;32mtry\u001b[0m\u001b[1;33m:\u001b[0m\u001b[1;33m\u001b[0m\u001b[1;33m\u001b[0m\u001b[0m\n\u001b[1;32m-> 2336\u001b[1;33m             \u001b[1;32mreturn\u001b[0m \u001b[0mfn\u001b[0m\u001b[1;33m(\u001b[0m\u001b[1;33m)\u001b[0m\u001b[1;33m\u001b[0m\u001b[1;33m\u001b[0m\u001b[0m\n\u001b[0m\u001b[0;32m   2337\u001b[0m         \u001b[1;32mexcept\u001b[0m \u001b[0mdialect\u001b[0m\u001b[1;33m.\u001b[0m\u001b[0mdbapi\u001b[0m\u001b[1;33m.\u001b[0m\u001b[0mError\u001b[0m \u001b[1;32mas\u001b[0m \u001b[0me\u001b[0m\u001b[1;33m:\u001b[0m\u001b[1;33m\u001b[0m\u001b[1;33m\u001b[0m\u001b[0m\n\u001b[0;32m   2338\u001b[0m             \u001b[1;32mif\u001b[0m \u001b[0mconnection\u001b[0m \u001b[1;32mis\u001b[0m \u001b[1;32mNone\u001b[0m\u001b[1;33m:\u001b[0m\u001b[1;33m\u001b[0m\u001b[1;33m\u001b[0m\u001b[0m\n",
      "\u001b[1;32m~\\Anaconda3\\lib\\site-packages\\sqlalchemy\\pool\\base.py\u001b[0m in \u001b[0;36mconnect\u001b[1;34m(self)\u001b[0m\n\u001b[0;32m    362\u001b[0m         \"\"\"\n\u001b[0;32m    363\u001b[0m         \u001b[1;32mif\u001b[0m \u001b[1;32mnot\u001b[0m \u001b[0mself\u001b[0m\u001b[1;33m.\u001b[0m\u001b[0m_use_threadlocal\u001b[0m\u001b[1;33m:\u001b[0m\u001b[1;33m\u001b[0m\u001b[1;33m\u001b[0m\u001b[0m\n\u001b[1;32m--> 364\u001b[1;33m             \u001b[1;32mreturn\u001b[0m \u001b[0m_ConnectionFairy\u001b[0m\u001b[1;33m.\u001b[0m\u001b[0m_checkout\u001b[0m\u001b[1;33m(\u001b[0m\u001b[0mself\u001b[0m\u001b[1;33m)\u001b[0m\u001b[1;33m\u001b[0m\u001b[1;33m\u001b[0m\u001b[0m\n\u001b[0m\u001b[0;32m    365\u001b[0m \u001b[1;33m\u001b[0m\u001b[0m\n\u001b[0;32m    366\u001b[0m         \u001b[1;32mtry\u001b[0m\u001b[1;33m:\u001b[0m\u001b[1;33m\u001b[0m\u001b[1;33m\u001b[0m\u001b[0m\n",
      "\u001b[1;32m~\\Anaconda3\\lib\\site-packages\\sqlalchemy\\pool\\base.py\u001b[0m in \u001b[0;36m_checkout\u001b[1;34m(cls, pool, threadconns, fairy)\u001b[0m\n\u001b[0;32m    776\u001b[0m     \u001b[1;32mdef\u001b[0m \u001b[0m_checkout\u001b[0m\u001b[1;33m(\u001b[0m\u001b[0mcls\u001b[0m\u001b[1;33m,\u001b[0m \u001b[0mpool\u001b[0m\u001b[1;33m,\u001b[0m \u001b[0mthreadconns\u001b[0m\u001b[1;33m=\u001b[0m\u001b[1;32mNone\u001b[0m\u001b[1;33m,\u001b[0m \u001b[0mfairy\u001b[0m\u001b[1;33m=\u001b[0m\u001b[1;32mNone\u001b[0m\u001b[1;33m)\u001b[0m\u001b[1;33m:\u001b[0m\u001b[1;33m\u001b[0m\u001b[1;33m\u001b[0m\u001b[0m\n\u001b[0;32m    777\u001b[0m         \u001b[1;32mif\u001b[0m \u001b[1;32mnot\u001b[0m \u001b[0mfairy\u001b[0m\u001b[1;33m:\u001b[0m\u001b[1;33m\u001b[0m\u001b[1;33m\u001b[0m\u001b[0m\n\u001b[1;32m--> 778\u001b[1;33m             \u001b[0mfairy\u001b[0m \u001b[1;33m=\u001b[0m \u001b[0m_ConnectionRecord\u001b[0m\u001b[1;33m.\u001b[0m\u001b[0mcheckout\u001b[0m\u001b[1;33m(\u001b[0m\u001b[0mpool\u001b[0m\u001b[1;33m)\u001b[0m\u001b[1;33m\u001b[0m\u001b[1;33m\u001b[0m\u001b[0m\n\u001b[0m\u001b[0;32m    779\u001b[0m \u001b[1;33m\u001b[0m\u001b[0m\n\u001b[0;32m    780\u001b[0m             \u001b[0mfairy\u001b[0m\u001b[1;33m.\u001b[0m\u001b[0m_pool\u001b[0m \u001b[1;33m=\u001b[0m \u001b[0mpool\u001b[0m\u001b[1;33m\u001b[0m\u001b[1;33m\u001b[0m\u001b[0m\n",
      "\u001b[1;32m~\\Anaconda3\\lib\\site-packages\\sqlalchemy\\pool\\base.py\u001b[0m in \u001b[0;36mcheckout\u001b[1;34m(cls, pool)\u001b[0m\n\u001b[0;32m    493\u001b[0m     \u001b[1;33m@\u001b[0m\u001b[0mclassmethod\u001b[0m\u001b[1;33m\u001b[0m\u001b[1;33m\u001b[0m\u001b[0m\n\u001b[0;32m    494\u001b[0m     \u001b[1;32mdef\u001b[0m \u001b[0mcheckout\u001b[0m\u001b[1;33m(\u001b[0m\u001b[0mcls\u001b[0m\u001b[1;33m,\u001b[0m \u001b[0mpool\u001b[0m\u001b[1;33m)\u001b[0m\u001b[1;33m:\u001b[0m\u001b[1;33m\u001b[0m\u001b[1;33m\u001b[0m\u001b[0m\n\u001b[1;32m--> 495\u001b[1;33m         \u001b[0mrec\u001b[0m \u001b[1;33m=\u001b[0m \u001b[0mpool\u001b[0m\u001b[1;33m.\u001b[0m\u001b[0m_do_get\u001b[0m\u001b[1;33m(\u001b[0m\u001b[1;33m)\u001b[0m\u001b[1;33m\u001b[0m\u001b[1;33m\u001b[0m\u001b[0m\n\u001b[0m\u001b[0;32m    496\u001b[0m         \u001b[1;32mtry\u001b[0m\u001b[1;33m:\u001b[0m\u001b[1;33m\u001b[0m\u001b[1;33m\u001b[0m\u001b[0m\n\u001b[0;32m    497\u001b[0m             \u001b[0mdbapi_connection\u001b[0m \u001b[1;33m=\u001b[0m \u001b[0mrec\u001b[0m\u001b[1;33m.\u001b[0m\u001b[0mget_connection\u001b[0m\u001b[1;33m(\u001b[0m\u001b[1;33m)\u001b[0m\u001b[1;33m\u001b[0m\u001b[1;33m\u001b[0m\u001b[0m\n",
      "\u001b[1;32m~\\Anaconda3\\lib\\site-packages\\sqlalchemy\\pool\\impl.py\u001b[0m in \u001b[0;36m_do_get\u001b[1;34m(self)\u001b[0m\n\u001b[0;32m    239\u001b[0m \u001b[1;33m\u001b[0m\u001b[0m\n\u001b[0;32m    240\u001b[0m     \u001b[1;32mdef\u001b[0m \u001b[0m_do_get\u001b[0m\u001b[1;33m(\u001b[0m\u001b[0mself\u001b[0m\u001b[1;33m)\u001b[0m\u001b[1;33m:\u001b[0m\u001b[1;33m\u001b[0m\u001b[1;33m\u001b[0m\u001b[0m\n\u001b[1;32m--> 241\u001b[1;33m         \u001b[1;32mreturn\u001b[0m \u001b[0mself\u001b[0m\u001b[1;33m.\u001b[0m\u001b[0m_create_connection\u001b[0m\u001b[1;33m(\u001b[0m\u001b[1;33m)\u001b[0m\u001b[1;33m\u001b[0m\u001b[1;33m\u001b[0m\u001b[0m\n\u001b[0m\u001b[0;32m    242\u001b[0m \u001b[1;33m\u001b[0m\u001b[0m\n\u001b[0;32m    243\u001b[0m     \u001b[1;32mdef\u001b[0m \u001b[0mrecreate\u001b[0m\u001b[1;33m(\u001b[0m\u001b[0mself\u001b[0m\u001b[1;33m)\u001b[0m\u001b[1;33m:\u001b[0m\u001b[1;33m\u001b[0m\u001b[1;33m\u001b[0m\u001b[0m\n",
      "\u001b[1;32m~\\Anaconda3\\lib\\site-packages\\sqlalchemy\\pool\\base.py\u001b[0m in \u001b[0;36m_create_connection\u001b[1;34m(self)\u001b[0m\n\u001b[0;32m    307\u001b[0m         \u001b[1;34m\"\"\"Called by subclasses to create a new ConnectionRecord.\"\"\"\u001b[0m\u001b[1;33m\u001b[0m\u001b[1;33m\u001b[0m\u001b[0m\n\u001b[0;32m    308\u001b[0m \u001b[1;33m\u001b[0m\u001b[0m\n\u001b[1;32m--> 309\u001b[1;33m         \u001b[1;32mreturn\u001b[0m \u001b[0m_ConnectionRecord\u001b[0m\u001b[1;33m(\u001b[0m\u001b[0mself\u001b[0m\u001b[1;33m)\u001b[0m\u001b[1;33m\u001b[0m\u001b[1;33m\u001b[0m\u001b[0m\n\u001b[0m\u001b[0;32m    310\u001b[0m \u001b[1;33m\u001b[0m\u001b[0m\n\u001b[0;32m    311\u001b[0m     \u001b[1;32mdef\u001b[0m \u001b[0m_invalidate\u001b[0m\u001b[1;33m(\u001b[0m\u001b[0mself\u001b[0m\u001b[1;33m,\u001b[0m \u001b[0mconnection\u001b[0m\u001b[1;33m,\u001b[0m \u001b[0mexception\u001b[0m\u001b[1;33m=\u001b[0m\u001b[1;32mNone\u001b[0m\u001b[1;33m,\u001b[0m \u001b[0m_checkin\u001b[0m\u001b[1;33m=\u001b[0m\u001b[1;32mTrue\u001b[0m\u001b[1;33m)\u001b[0m\u001b[1;33m:\u001b[0m\u001b[1;33m\u001b[0m\u001b[1;33m\u001b[0m\u001b[0m\n",
      "\u001b[1;32m~\\Anaconda3\\lib\\site-packages\\sqlalchemy\\pool\\base.py\u001b[0m in \u001b[0;36m__init__\u001b[1;34m(self, pool, connect)\u001b[0m\n\u001b[0;32m    438\u001b[0m         \u001b[0mself\u001b[0m\u001b[1;33m.\u001b[0m\u001b[0m__pool\u001b[0m \u001b[1;33m=\u001b[0m \u001b[0mpool\u001b[0m\u001b[1;33m\u001b[0m\u001b[1;33m\u001b[0m\u001b[0m\n\u001b[0;32m    439\u001b[0m         \u001b[1;32mif\u001b[0m \u001b[0mconnect\u001b[0m\u001b[1;33m:\u001b[0m\u001b[1;33m\u001b[0m\u001b[1;33m\u001b[0m\u001b[0m\n\u001b[1;32m--> 440\u001b[1;33m             \u001b[0mself\u001b[0m\u001b[1;33m.\u001b[0m\u001b[0m__connect\u001b[0m\u001b[1;33m(\u001b[0m\u001b[0mfirst_connect_check\u001b[0m\u001b[1;33m=\u001b[0m\u001b[1;32mTrue\u001b[0m\u001b[1;33m)\u001b[0m\u001b[1;33m\u001b[0m\u001b[1;33m\u001b[0m\u001b[0m\n\u001b[0m\u001b[0;32m    441\u001b[0m         \u001b[0mself\u001b[0m\u001b[1;33m.\u001b[0m\u001b[0mfinalize_callback\u001b[0m \u001b[1;33m=\u001b[0m \u001b[0mdeque\u001b[0m\u001b[1;33m(\u001b[0m\u001b[1;33m)\u001b[0m\u001b[1;33m\u001b[0m\u001b[1;33m\u001b[0m\u001b[0m\n\u001b[0;32m    442\u001b[0m \u001b[1;33m\u001b[0m\u001b[0m\n",
      "\u001b[1;32m~\\Anaconda3\\lib\\site-packages\\sqlalchemy\\pool\\base.py\u001b[0m in \u001b[0;36m__connect\u001b[1;34m(self, first_connect_check)\u001b[0m\n\u001b[0;32m    659\u001b[0m         \u001b[1;32mexcept\u001b[0m \u001b[0mException\u001b[0m \u001b[1;32mas\u001b[0m \u001b[0me\u001b[0m\u001b[1;33m:\u001b[0m\u001b[1;33m\u001b[0m\u001b[1;33m\u001b[0m\u001b[0m\n\u001b[0;32m    660\u001b[0m             \u001b[1;32mwith\u001b[0m \u001b[0mutil\u001b[0m\u001b[1;33m.\u001b[0m\u001b[0msafe_reraise\u001b[0m\u001b[1;33m(\u001b[0m\u001b[1;33m)\u001b[0m\u001b[1;33m:\u001b[0m\u001b[1;33m\u001b[0m\u001b[1;33m\u001b[0m\u001b[0m\n\u001b[1;32m--> 661\u001b[1;33m                 \u001b[0mpool\u001b[0m\u001b[1;33m.\u001b[0m\u001b[0mlogger\u001b[0m\u001b[1;33m.\u001b[0m\u001b[0mdebug\u001b[0m\u001b[1;33m(\u001b[0m\u001b[1;34m\"Error on connect(): %s\"\u001b[0m\u001b[1;33m,\u001b[0m \u001b[0me\u001b[0m\u001b[1;33m)\u001b[0m\u001b[1;33m\u001b[0m\u001b[1;33m\u001b[0m\u001b[0m\n\u001b[0m\u001b[0;32m    662\u001b[0m         \u001b[1;32melse\u001b[0m\u001b[1;33m:\u001b[0m\u001b[1;33m\u001b[0m\u001b[1;33m\u001b[0m\u001b[0m\n\u001b[0;32m    663\u001b[0m             \u001b[1;32mif\u001b[0m \u001b[0mfirst_connect_check\u001b[0m\u001b[1;33m:\u001b[0m\u001b[1;33m\u001b[0m\u001b[1;33m\u001b[0m\u001b[0m\n",
      "\u001b[1;32m~\\Anaconda3\\lib\\site-packages\\sqlalchemy\\util\\langhelpers.py\u001b[0m in \u001b[0;36m__exit__\u001b[1;34m(self, type_, value, traceback)\u001b[0m\n\u001b[0;32m     66\u001b[0m             \u001b[0mself\u001b[0m\u001b[1;33m.\u001b[0m\u001b[0m_exc_info\u001b[0m \u001b[1;33m=\u001b[0m \u001b[1;32mNone\u001b[0m  \u001b[1;31m# remove potential circular references\u001b[0m\u001b[1;33m\u001b[0m\u001b[1;33m\u001b[0m\u001b[0m\n\u001b[0;32m     67\u001b[0m             \u001b[1;32mif\u001b[0m \u001b[1;32mnot\u001b[0m \u001b[0mself\u001b[0m\u001b[1;33m.\u001b[0m\u001b[0mwarn_only\u001b[0m\u001b[1;33m:\u001b[0m\u001b[1;33m\u001b[0m\u001b[1;33m\u001b[0m\u001b[0m\n\u001b[1;32m---> 68\u001b[1;33m                 compat.raise_(\n\u001b[0m\u001b[0;32m     69\u001b[0m                     \u001b[0mexc_value\u001b[0m\u001b[1;33m,\u001b[0m\u001b[1;33m\u001b[0m\u001b[1;33m\u001b[0m\u001b[0m\n\u001b[0;32m     70\u001b[0m                     \u001b[0mwith_traceback\u001b[0m\u001b[1;33m=\u001b[0m\u001b[0mexc_tb\u001b[0m\u001b[1;33m,\u001b[0m\u001b[1;33m\u001b[0m\u001b[1;33m\u001b[0m\u001b[0m\n",
      "\u001b[1;32m~\\Anaconda3\\lib\\site-packages\\sqlalchemy\\util\\compat.py\u001b[0m in \u001b[0;36mraise_\u001b[1;34m(***failed resolving arguments***)\u001b[0m\n\u001b[0;32m    180\u001b[0m \u001b[1;33m\u001b[0m\u001b[0m\n\u001b[0;32m    181\u001b[0m         \u001b[1;32mtry\u001b[0m\u001b[1;33m:\u001b[0m\u001b[1;33m\u001b[0m\u001b[1;33m\u001b[0m\u001b[0m\n\u001b[1;32m--> 182\u001b[1;33m             \u001b[1;32mraise\u001b[0m \u001b[0mexception\u001b[0m\u001b[1;33m\u001b[0m\u001b[1;33m\u001b[0m\u001b[0m\n\u001b[0m\u001b[0;32m    183\u001b[0m         \u001b[1;32mfinally\u001b[0m\u001b[1;33m:\u001b[0m\u001b[1;33m\u001b[0m\u001b[1;33m\u001b[0m\u001b[0m\n\u001b[0;32m    184\u001b[0m             \u001b[1;31m# credit to\u001b[0m\u001b[1;33m\u001b[0m\u001b[1;33m\u001b[0m\u001b[1;33m\u001b[0m\u001b[0m\n",
      "\u001b[1;32m~\\Anaconda3\\lib\\site-packages\\sqlalchemy\\pool\\base.py\u001b[0m in \u001b[0;36m__connect\u001b[1;34m(self, first_connect_check)\u001b[0m\n\u001b[0;32m    654\u001b[0m         \u001b[1;32mtry\u001b[0m\u001b[1;33m:\u001b[0m\u001b[1;33m\u001b[0m\u001b[1;33m\u001b[0m\u001b[0m\n\u001b[0;32m    655\u001b[0m             \u001b[0mself\u001b[0m\u001b[1;33m.\u001b[0m\u001b[0mstarttime\u001b[0m \u001b[1;33m=\u001b[0m \u001b[0mtime\u001b[0m\u001b[1;33m.\u001b[0m\u001b[0mtime\u001b[0m\u001b[1;33m(\u001b[0m\u001b[1;33m)\u001b[0m\u001b[1;33m\u001b[0m\u001b[1;33m\u001b[0m\u001b[0m\n\u001b[1;32m--> 656\u001b[1;33m             \u001b[0mconnection\u001b[0m \u001b[1;33m=\u001b[0m \u001b[0mpool\u001b[0m\u001b[1;33m.\u001b[0m\u001b[0m_invoke_creator\u001b[0m\u001b[1;33m(\u001b[0m\u001b[0mself\u001b[0m\u001b[1;33m)\u001b[0m\u001b[1;33m\u001b[0m\u001b[1;33m\u001b[0m\u001b[0m\n\u001b[0m\u001b[0;32m    657\u001b[0m             \u001b[0mpool\u001b[0m\u001b[1;33m.\u001b[0m\u001b[0mlogger\u001b[0m\u001b[1;33m.\u001b[0m\u001b[0mdebug\u001b[0m\u001b[1;33m(\u001b[0m\u001b[1;34m\"Created new connection %r\"\u001b[0m\u001b[1;33m,\u001b[0m \u001b[0mconnection\u001b[0m\u001b[1;33m)\u001b[0m\u001b[1;33m\u001b[0m\u001b[1;33m\u001b[0m\u001b[0m\n\u001b[0;32m    658\u001b[0m             \u001b[0mself\u001b[0m\u001b[1;33m.\u001b[0m\u001b[0mconnection\u001b[0m \u001b[1;33m=\u001b[0m \u001b[0mconnection\u001b[0m\u001b[1;33m\u001b[0m\u001b[1;33m\u001b[0m\u001b[0m\n",
      "\u001b[1;32m~\\Anaconda3\\lib\\site-packages\\sqlalchemy\\engine\\strategies.py\u001b[0m in \u001b[0;36mconnect\u001b[1;34m(connection_record)\u001b[0m\n\u001b[0;32m    112\u001b[0m                         \u001b[1;32mif\u001b[0m \u001b[0mconnection\u001b[0m \u001b[1;32mis\u001b[0m \u001b[1;32mnot\u001b[0m \u001b[1;32mNone\u001b[0m\u001b[1;33m:\u001b[0m\u001b[1;33m\u001b[0m\u001b[1;33m\u001b[0m\u001b[0m\n\u001b[0;32m    113\u001b[0m                             \u001b[1;32mreturn\u001b[0m \u001b[0mconnection\u001b[0m\u001b[1;33m\u001b[0m\u001b[1;33m\u001b[0m\u001b[0m\n\u001b[1;32m--> 114\u001b[1;33m                 \u001b[1;32mreturn\u001b[0m \u001b[0mdialect\u001b[0m\u001b[1;33m.\u001b[0m\u001b[0mconnect\u001b[0m\u001b[1;33m(\u001b[0m\u001b[1;33m*\u001b[0m\u001b[0mcargs\u001b[0m\u001b[1;33m,\u001b[0m \u001b[1;33m**\u001b[0m\u001b[0mcparams\u001b[0m\u001b[1;33m)\u001b[0m\u001b[1;33m\u001b[0m\u001b[1;33m\u001b[0m\u001b[0m\n\u001b[0m\u001b[0;32m    115\u001b[0m \u001b[1;33m\u001b[0m\u001b[0m\n\u001b[0;32m    116\u001b[0m             \u001b[0mcreator\u001b[0m \u001b[1;33m=\u001b[0m \u001b[0mpop_kwarg\u001b[0m\u001b[1;33m(\u001b[0m\u001b[1;34m\"creator\"\u001b[0m\u001b[1;33m,\u001b[0m \u001b[0mconnect\u001b[0m\u001b[1;33m)\u001b[0m\u001b[1;33m\u001b[0m\u001b[1;33m\u001b[0m\u001b[0m\n",
      "\u001b[1;32m~\\Anaconda3\\lib\\site-packages\\sqlalchemy\\engine\\default.py\u001b[0m in \u001b[0;36mconnect\u001b[1;34m(self, *cargs, **cparams)\u001b[0m\n\u001b[0;32m    491\u001b[0m     \u001b[1;32mdef\u001b[0m \u001b[0mconnect\u001b[0m\u001b[1;33m(\u001b[0m\u001b[0mself\u001b[0m\u001b[1;33m,\u001b[0m \u001b[1;33m*\u001b[0m\u001b[0mcargs\u001b[0m\u001b[1;33m,\u001b[0m \u001b[1;33m**\u001b[0m\u001b[0mcparams\u001b[0m\u001b[1;33m)\u001b[0m\u001b[1;33m:\u001b[0m\u001b[1;33m\u001b[0m\u001b[1;33m\u001b[0m\u001b[0m\n\u001b[0;32m    492\u001b[0m         \u001b[1;31m# inherits the docstring from interfaces.Dialect.connect\u001b[0m\u001b[1;33m\u001b[0m\u001b[1;33m\u001b[0m\u001b[1;33m\u001b[0m\u001b[0m\n\u001b[1;32m--> 493\u001b[1;33m         \u001b[1;32mreturn\u001b[0m \u001b[0mself\u001b[0m\u001b[1;33m.\u001b[0m\u001b[0mdbapi\u001b[0m\u001b[1;33m.\u001b[0m\u001b[0mconnect\u001b[0m\u001b[1;33m(\u001b[0m\u001b[1;33m*\u001b[0m\u001b[0mcargs\u001b[0m\u001b[1;33m,\u001b[0m \u001b[1;33m**\u001b[0m\u001b[0mcparams\u001b[0m\u001b[1;33m)\u001b[0m\u001b[1;33m\u001b[0m\u001b[1;33m\u001b[0m\u001b[0m\n\u001b[0m\u001b[0;32m    494\u001b[0m \u001b[1;33m\u001b[0m\u001b[0m\n\u001b[0;32m    495\u001b[0m     \u001b[1;32mdef\u001b[0m \u001b[0mcreate_connect_args\u001b[0m\u001b[1;33m(\u001b[0m\u001b[0mself\u001b[0m\u001b[1;33m,\u001b[0m \u001b[0murl\u001b[0m\u001b[1;33m)\u001b[0m\u001b[1;33m:\u001b[0m\u001b[1;33m\u001b[0m\u001b[1;33m\u001b[0m\u001b[0m\n",
      "\u001b[1;31mOperationalError\u001b[0m: (sqlite3.OperationalError) unable to open database file\n(Background on this error at: http://sqlalche.me/e/13/e3q8)"
     ]
    }
   ],
   "source": [
    "# load data from database\n",
    "engine = create_engine('sqlite:///databases/Disaster.db')\n",
    "\n",
    "\n",
    "df = pd.read_sql('SELECT * FROM Disaster', con = engine)\n",
    "\n",
    "\n",
    "df.describe()"
   ]
  },
  {
   "cell_type": "code",
   "execution_count": 3,
   "metadata": {},
   "outputs": [],
   "source": [
    "#Remove child alone as it has all zeros only\n",
    "df = df.drop(['child_alone'],axis=1)"
   ]
  },
  {
   "cell_type": "code",
   "execution_count": 4,
   "metadata": {},
   "outputs": [
    {
     "data": {
      "text/plain": [
       "1    19765\n",
       "0     6087\n",
       "2      190\n",
       "Name: related, dtype: int64"
      ]
     },
     "execution_count": 4,
     "metadata": {},
     "output_type": "execute_result"
    }
   ],
   "source": [
    "# Thr related column has more than a 2 categories\n",
    "df.related.value_counts()"
   ]
  },
  {
   "cell_type": "code",
   "execution_count": 5,
   "metadata": {},
   "outputs": [],
   "source": [
    "#Dropping the related rows with value  = 2\n",
    "df = df[df['related'] != 2]"
   ]
  },
  {
   "cell_type": "code",
   "execution_count": 6,
   "metadata": {},
   "outputs": [],
   "source": [
    "\n",
    "X = df['message']\n",
    "Y = df.loc[:,'related':'direct_report']"
   ]
  },
  {
   "cell_type": "markdown",
   "metadata": {},
   "source": [
    "### 2. Write a tokenization function to process your text data"
   ]
  },
  {
   "cell_type": "code",
   "execution_count": 7,
   "metadata": {},
   "outputs": [],
   "source": [
    "def tokenize(text):\n",
    "    tokens = word_tokenize(re.sub(r\"[^a-zA-Z0-9]\", \" \", text.lower()).replace(\"  \",\"\"))\n",
    "    words = [w for w in tokens if w not in stopwords.words(\"english\")]\n",
    "    \n",
    "\n",
    "    # Reduce words to their stems\n",
    "    stemmed = [PorterStemmer().stem(w) for w in words]\n",
    "    \n",
    "    # Reduce words to their stems\n",
    "    \n",
    "    lemmed = [WordNetLemmatizer().lemmatize(w) for w in stemmed]\n",
    "    \n",
    "    return lemmed "
   ]
  },
  {
   "cell_type": "markdown",
   "metadata": {},
   "source": [
    "### 3. Build a machine learning pipeline\n",
    "This machine pipeline should take in the `message` column as input and output classification results on the other 36 categories in the dataset. You may find the [MultiOutputClassifier](http://scikit-learn.org/stable/modules/generated/sklearn.multioutput.MultiOutputClassifier.html) helpful for predicting multiple target variables."
   ]
  },
  {
   "cell_type": "code",
   "execution_count": 8,
   "metadata": {},
   "outputs": [],
   "source": [
    "pipeline = Pipeline([\n",
    "        ('features', FeatureUnion([\n",
    "\n",
    "            ('text_pipeline', Pipeline([\n",
    "                ('vect', CountVectorizer()),\n",
    "                ('tfidf', TfidfTransformer())\n",
    "            ]))\n",
    "            \n",
    "        ])),\n",
    "\n",
    "        ('clf', MultiOutputClassifier(KNeighborsClassifier(n_jobs=-1)))\n",
    "    ])\n",
    "\n",
    "\n"
   ]
  },
  {
   "cell_type": "markdown",
   "metadata": {},
   "source": [
    "### 4. Train pipeline\n",
    "- Split data into train and test sets\n",
    "- Train pipeline"
   ]
  },
  {
   "cell_type": "code",
   "execution_count": 9,
   "metadata": {},
   "outputs": [],
   "source": [
    "X_train, X_test, y_train, y_test = train_test_split(X, Y)\n"
   ]
  },
  {
   "cell_type": "code",
   "execution_count": 20,
   "metadata": {},
   "outputs": [
    {
     "data": {
      "text/plain": [
       "Pipeline(steps=[('features',\n",
       "                 FeatureUnion(transformer_list=[('text_pipeline',\n",
       "                                                 Pipeline(steps=[('vect',\n",
       "                                                                  CountVectorizer()),\n",
       "                                                                 ('tfidf',\n",
       "                                                                  TfidfTransformer())]))])),\n",
       "                ('clf',\n",
       "                 MultiOutputClassifier(estimator=KNeighborsClassifier(n_jobs=-1)))])"
      ]
     },
     "execution_count": 20,
     "metadata": {},
     "output_type": "execute_result"
    }
   ],
   "source": [
    "pipeline.fit(X_train,y_train)"
   ]
  },
  {
   "cell_type": "markdown",
   "metadata": {},
   "source": [
    "### 5. Test your model\n",
    "Report the f1 score, precision and recall for each output category of the dataset. You can do this by iterating through the columns and calling sklearn's `classification_report` on each."
   ]
  },
  {
   "cell_type": "code",
   "execution_count": 21,
   "metadata": {},
   "outputs": [],
   "source": [
    "y_pred = pipeline.predict(X_test)"
   ]
  },
  {
   "cell_type": "code",
   "execution_count": 22,
   "metadata": {
    "scrolled": true
   },
   "outputs": [
    {
     "name": "stdout",
     "output_type": "stream",
     "text": [
      "related\n",
      "              precision    recall  f1-score   support\n",
      "\n",
      "           0       0.34      0.11      0.17      1502\n",
      "           1       0.78      0.94      0.85      4961\n",
      "\n",
      "    accuracy                           0.74      6463\n",
      "   macro avg       0.56      0.52      0.51      6463\n",
      "weighted avg       0.68      0.74      0.69      6463\n",
      "\n",
      "request\n",
      "              precision    recall  f1-score   support\n",
      "\n",
      "           0       0.84      0.95      0.89      5387\n",
      "           1       0.32      0.12      0.18      1076\n",
      "\n",
      "    accuracy                           0.81      6463\n",
      "   macro avg       0.58      0.54      0.54      6463\n",
      "weighted avg       0.76      0.81      0.77      6463\n",
      "\n",
      "offer\n",
      "              precision    recall  f1-score   support\n",
      "\n",
      "           0       0.99      1.00      1.00      6425\n",
      "           1       0.00      0.00      0.00        38\n",
      "\n",
      "    accuracy                           0.99      6463\n",
      "   macro avg       0.50      0.50      0.50      6463\n",
      "weighted avg       0.99      0.99      0.99      6463\n",
      "\n",
      "aid_related\n",
      "              precision    recall  f1-score   support\n",
      "\n",
      "           0       0.58      0.83      0.68      3741\n",
      "           1       0.43      0.18      0.25      2722\n",
      "\n",
      "    accuracy                           0.55      6463\n",
      "   macro avg       0.50      0.50      0.47      6463\n",
      "weighted avg       0.52      0.55      0.50      6463\n",
      "\n",
      "medical_help\n",
      "              precision    recall  f1-score   support\n",
      "\n",
      "           0       0.92      1.00      0.96      5927\n",
      "           1       0.00      0.00      0.00       536\n",
      "\n",
      "    accuracy                           0.92      6463\n",
      "   macro avg       0.46      0.50      0.48      6463\n",
      "weighted avg       0.84      0.92      0.88      6463\n",
      "\n",
      "medical_products\n",
      "              precision    recall  f1-score   support\n",
      "\n",
      "           0       0.95      1.00      0.97      6136\n",
      "           1       0.00      0.00      0.00       327\n",
      "\n",
      "    accuracy                           0.95      6463\n",
      "   macro avg       0.47      0.50      0.49      6463\n",
      "weighted avg       0.90      0.95      0.92      6463\n",
      "\n",
      "search_and_rescue\n",
      "              precision    recall  f1-score   support\n",
      "\n",
      "           0       0.97      1.00      0.98      6267\n",
      "           1       0.00      0.00      0.00       196\n",
      "\n",
      "    accuracy                           0.97      6463\n",
      "   macro avg       0.48      0.50      0.49      6463\n",
      "weighted avg       0.94      0.97      0.95      6463\n",
      "\n",
      "security\n",
      "              precision    recall  f1-score   support\n",
      "\n",
      "           0       0.98      1.00      0.99      6316\n",
      "           1       0.00      0.00      0.00       147\n",
      "\n",
      "    accuracy                           0.98      6463\n",
      "   macro avg       0.49      0.50      0.49      6463\n",
      "weighted avg       0.96      0.98      0.97      6463\n",
      "\n",
      "military\n",
      "              precision    recall  f1-score   support\n",
      "\n",
      "           0       0.97      1.00      0.98      6241\n",
      "           1       0.00      0.00      0.00       222\n",
      "\n",
      "    accuracy                           0.97      6463\n",
      "   macro avg       0.48      0.50      0.49      6463\n",
      "weighted avg       0.93      0.97      0.95      6463\n",
      "\n",
      "water\n",
      "              precision    recall  f1-score   support\n",
      "\n",
      "           0       0.94      1.00      0.97      6062\n",
      "           1       0.00      0.00      0.00       401\n",
      "\n",
      "    accuracy                           0.94      6463\n",
      "   macro avg       0.47      0.50      0.48      6463\n",
      "weighted avg       0.88      0.94      0.91      6463\n",
      "\n",
      "food\n",
      "              precision    recall  f1-score   support\n",
      "\n",
      "           0       0.89      1.00      0.94      5760\n",
      "           1       0.00      0.00      0.00       703\n",
      "\n",
      "    accuracy                           0.89      6463\n",
      "   macro avg       0.45      0.50      0.47      6463\n",
      "weighted avg       0.79      0.89      0.84      6463\n",
      "\n",
      "shelter\n",
      "              precision    recall  f1-score   support\n",
      "\n",
      "           0       0.92      1.00      0.96      5914\n",
      "           1       0.00      0.00      0.00       549\n",
      "\n",
      "    accuracy                           0.91      6463\n",
      "   macro avg       0.46      0.50      0.48      6463\n",
      "weighted avg       0.84      0.91      0.87      6463\n",
      "\n",
      "clothing\n",
      "              precision    recall  f1-score   support\n",
      "\n",
      "           0       0.99      1.00      0.99      6368\n",
      "           1       0.00      0.00      0.00        95\n",
      "\n",
      "    accuracy                           0.99      6463\n",
      "   macro avg       0.49      0.50      0.50      6463\n",
      "weighted avg       0.97      0.99      0.98      6463\n",
      "\n",
      "money\n",
      "              precision    recall  f1-score   support\n",
      "\n",
      "           0       0.98      1.00      0.99      6308\n",
      "           1       0.00      0.00      0.00       155\n",
      "\n",
      "    accuracy                           0.98      6463\n",
      "   macro avg       0.49      0.50      0.49      6463\n",
      "weighted avg       0.95      0.98      0.96      6463\n",
      "\n",
      "missing_people\n",
      "              precision    recall  f1-score   support\n",
      "\n",
      "           0       0.99      1.00      0.99      6367\n",
      "           1       0.00      0.00      0.00        96\n",
      "\n",
      "    accuracy                           0.99      6463\n",
      "   macro avg       0.49      0.50      0.50      6463\n",
      "weighted avg       0.97      0.99      0.98      6463\n",
      "\n",
      "refugees\n",
      "              precision    recall  f1-score   support\n",
      "\n",
      "           0       0.96      1.00      0.98      6231\n",
      "           1       0.00      0.00      0.00       232\n",
      "\n",
      "    accuracy                           0.96      6463\n",
      "   macro avg       0.48      0.50      0.49      6463\n",
      "weighted avg       0.93      0.96      0.95      6463\n",
      "\n",
      "death\n",
      "              precision    recall  f1-score   support\n",
      "\n",
      "           0       0.95      1.00      0.97      6146\n",
      "           1       0.00      0.00      0.00       317\n",
      "\n",
      "    accuracy                           0.95      6463\n",
      "   macro avg       0.48      0.50      0.49      6463\n",
      "weighted avg       0.90      0.95      0.93      6463\n"
     ]
    },
    {
     "name": "stderr",
     "output_type": "stream",
     "text": [
      "C:\\Users\\eppmi\\Anaconda3\\lib\\site-packages\\sklearn\\metrics\\_classification.py:1221: UndefinedMetricWarning: Precision and F-score are ill-defined and being set to 0.0 in labels with no predicted samples. Use `zero_division` parameter to control this behavior.\n",
      "  _warn_prf(average, modifier, msg_start, len(result))\n"
     ]
    },
    {
     "name": "stdout",
     "output_type": "stream",
     "text": [
      "\n",
      "other_aid\n",
      "              precision    recall  f1-score   support\n",
      "\n",
      "           0       0.87      0.98      0.92      5602\n",
      "           1       0.11      0.01      0.02       861\n",
      "\n",
      "    accuracy                           0.85      6463\n",
      "   macro avg       0.49      0.50      0.47      6463\n",
      "weighted avg       0.77      0.85      0.80      6463\n",
      "\n",
      "infrastructure_related\n",
      "              precision    recall  f1-score   support\n",
      "\n",
      "           0       0.93      1.00      0.97      6035\n",
      "           1       0.00      0.00      0.00       428\n",
      "\n",
      "    accuracy                           0.93      6463\n",
      "   macro avg       0.47      0.50      0.48      6463\n",
      "weighted avg       0.87      0.93      0.90      6463\n",
      "\n",
      "transport\n",
      "              precision    recall  f1-score   support\n",
      "\n",
      "           0       0.95      1.00      0.98      6155\n",
      "           1       0.00      0.00      0.00       308\n",
      "\n",
      "    accuracy                           0.95      6463\n",
      "   macro avg       0.48      0.50      0.49      6463\n",
      "weighted avg       0.91      0.95      0.93      6463\n",
      "\n",
      "buildings\n",
      "              precision    recall  f1-score   support\n",
      "\n",
      "           0       0.95      1.00      0.97      6150\n",
      "           1       0.06      0.00      0.01       313\n",
      "\n",
      "    accuracy                           0.95      6463\n",
      "   macro avg       0.51      0.50      0.49      6463\n",
      "weighted avg       0.91      0.95      0.93      6463\n",
      "\n",
      "electricity\n",
      "              precision    recall  f1-score   support\n",
      "\n",
      "           0       0.98      1.00      0.99      6329\n",
      "           1       0.00      0.00      0.00       134\n",
      "\n",
      "    accuracy                           0.98      6463\n",
      "   macro avg       0.49      0.50      0.49      6463\n",
      "weighted avg       0.96      0.98      0.97      6463\n",
      "\n",
      "tools\n",
      "              precision    recall  f1-score   support\n",
      "\n",
      "           0       0.99      1.00      1.00      6427\n",
      "           1       0.00      0.00      0.00        36\n",
      "\n",
      "    accuracy                           0.99      6463\n",
      "   macro avg       0.50      0.50      0.50      6463\n",
      "weighted avg       0.99      0.99      0.99      6463\n",
      "\n",
      "hospitals\n",
      "              precision    recall  f1-score   support\n",
      "\n",
      "           0       0.99      1.00      0.99      6389\n",
      "           1       0.00      0.00      0.00        74\n",
      "\n",
      "    accuracy                           0.99      6463\n",
      "   macro avg       0.49      0.50      0.50      6463\n",
      "weighted avg       0.98      0.99      0.98      6463\n",
      "\n",
      "shops\n",
      "              precision    recall  f1-score   support\n",
      "\n",
      "           0       0.99      1.00      1.00      6428\n",
      "           1       0.00      0.00      0.00        35\n",
      "\n",
      "    accuracy                           0.99      6463\n",
      "   macro avg       0.50      0.50      0.50      6463\n",
      "weighted avg       0.99      0.99      0.99      6463\n",
      "\n",
      "aid_centers\n",
      "              precision    recall  f1-score   support\n",
      "\n",
      "           0       0.99      1.00      0.99      6393\n",
      "           1       0.00      0.00      0.00        70\n",
      "\n",
      "    accuracy                           0.99      6463\n",
      "   macro avg       0.49      0.50      0.50      6463\n",
      "weighted avg       0.98      0.99      0.98      6463\n",
      "\n",
      "other_infrastructure\n",
      "              precision    recall  f1-score   support\n",
      "\n",
      "           0       0.96      1.00      0.98      6181\n",
      "           1       0.00      0.00      0.00       282\n",
      "\n",
      "    accuracy                           0.96      6463\n",
      "   macro avg       0.48      0.50      0.49      6463\n",
      "weighted avg       0.91      0.96      0.94      6463\n",
      "\n",
      "weather_related\n",
      "              precision    recall  f1-score   support\n",
      "\n",
      "           0       0.78      0.61      0.68      4667\n",
      "           1       0.35      0.54      0.42      1796\n",
      "\n",
      "    accuracy                           0.59      6463\n",
      "   macro avg       0.56      0.58      0.55      6463\n",
      "weighted avg       0.66      0.59      0.61      6463\n",
      "\n",
      "floods\n",
      "              precision    recall  f1-score   support\n",
      "\n",
      "           0       0.92      0.87      0.89      5920\n",
      "           1       0.11      0.19      0.14       543\n",
      "\n",
      "    accuracy                           0.81      6463\n",
      "   macro avg       0.52      0.53      0.52      6463\n",
      "weighted avg       0.85      0.81      0.83      6463\n",
      "\n",
      "storm\n",
      "              precision    recall  f1-score   support\n",
      "\n",
      "           0       0.91      1.00      0.95      5848\n",
      "           1       1.00      0.00      0.01       615\n",
      "\n",
      "    accuracy                           0.91      6463\n",
      "   macro avg       0.95      0.50      0.48      6463\n",
      "weighted avg       0.91      0.91      0.86      6463\n",
      "\n",
      "fire\n",
      "              precision    recall  f1-score   support\n",
      "\n",
      "           0       0.99      1.00      0.99      6387\n",
      "           1       0.00      0.00      0.00        76\n",
      "\n",
      "    accuracy                           0.99      6463\n",
      "   macro avg       0.49      0.50      0.50      6463\n",
      "weighted avg       0.98      0.99      0.98      6463\n",
      "\n",
      "earthquake\n",
      "              precision    recall  f1-score   support\n",
      "\n",
      "           0       0.91      1.00      0.95      5852\n",
      "           1       0.81      0.03      0.07       611\n",
      "\n",
      "    accuracy                           0.91      6463\n",
      "   macro avg       0.86      0.52      0.51      6463\n",
      "weighted avg       0.90      0.91      0.87      6463\n",
      "\n",
      "cold\n",
      "              precision    recall  f1-score   support\n",
      "\n",
      "           0       0.98      1.00      0.99      6329\n",
      "           1       0.00      0.00      0.00       134\n",
      "\n",
      "    accuracy                           0.98      6463\n",
      "   macro avg       0.49      0.50      0.49      6463\n",
      "weighted avg       0.96      0.98      0.97      6463\n",
      "\n",
      "other_weather\n",
      "              precision    recall  f1-score   support\n",
      "\n",
      "           0       0.95      1.00      0.97      6136\n",
      "           1       0.00      0.00      0.00       327\n",
      "\n",
      "    accuracy                           0.95      6463\n",
      "   macro avg       0.47      0.50      0.49      6463\n",
      "weighted avg       0.90      0.95      0.92      6463\n",
      "\n",
      "direct_report\n",
      "              precision    recall  f1-score   support\n",
      "\n",
      "           0       0.82      0.95      0.88      5226\n",
      "           1       0.35      0.12      0.18      1237\n",
      "\n",
      "    accuracy                           0.79      6463\n",
      "   macro avg       0.58      0.53      0.53      6463\n",
      "weighted avg       0.73      0.79      0.74      6463\n",
      "\n"
     ]
    }
   ],
   "source": [
    "for n, col in enumerate(y_test.columns):\n",
    "    print(col)\n",
    "    print(classification_report(y_test[col], y_pred[:,n]))"
   ]
  },
  {
   "cell_type": "code",
   "execution_count": 9,
   "metadata": {},
   "outputs": [],
   "source": [
    "# inspired by https://github.com/dabln/dsnd-DisasterResponsePipeline/blob/master/notebooks_code_development%20/ML%20Pipeline.ipynb\n",
    "def report(y_test,y_pred, average = 'weighted', score=f1_score):\n",
    "    report = {}\n",
    "    for n, col in enumerate(y_test.columns):\n",
    "        output = classification_report(y_test[col], y_pred[:,n], output_dict=True)\n",
    "        report[col] = {}\n",
    "        for i in output:   \n",
    "            if i == 'accuracy':\n",
    "                break\n",
    "            report[col]['f1_' + i] = output[i]['f1-score']\n",
    "            report[col]['precision_' + i] = output[i]['precision']\n",
    "            report[col]['recall_' + i] = output[i]['recall']\n",
    "\n",
    "    report_df = pd.DataFrame(report).transpose()\n",
    "    report_df = report_df[report_df.columns.sort_values()]\n",
    "    report_df_mean = report_df.mean()\n",
    "    \n",
    "    print(\"Table for each column:\")\n",
    "    print (report_df)\n",
    "    print('\\n')\n",
    "    print('mean of results:')\n",
    "    print(report_df_mean)\n",
    "    print('\\n')\n",
    "    print('{} ({}): {}'.format(score, average, score(y_test, y_pred, average=average)))\n",
    "    "
   ]
  },
  {
   "cell_type": "code",
   "execution_count": 14,
   "metadata": {
    "scrolled": true
   },
   "outputs": [
    {
     "name": "stdout",
     "output_type": "stream",
     "text": [
      "Table for each column:\n",
      "                            f1_0      f1_1  precision_0  precision_1  \\\n",
      "related                 0.268452  0.801023     0.319277     0.767780   \n",
      "request                 0.868812  0.264691     0.854709     0.291667   \n",
      "offer                   0.997984  0.000000     0.995977     0.000000   \n",
      "aid_related             0.613161  0.394523     0.598071     0.410744   \n",
      "medical_help            0.960347  0.000000     0.924149     0.000000   \n",
      "medical_products        0.976726  0.000000     0.954658     0.000000   \n",
      "search_and_rescue       0.985321  0.000000     0.971216     0.000000   \n",
      "security                0.990235  0.000000     0.980659     0.000000   \n",
      "military                0.981964  0.000000     0.964568     0.000000   \n",
      "water                   0.969958  0.000000     0.942251     0.000000   \n",
      "food                    0.941408  0.011065     0.892618     0.142857   \n",
      "shelter                 0.956381  0.010989     0.917119     0.375000   \n",
      "clothing                0.993459  0.000000     0.987003     0.000000   \n",
      "money                   0.990314  0.000000     0.980814     0.000000   \n",
      "missing_people          0.994086  0.000000     0.988241     0.000000   \n",
      "refugees                0.983086  0.000000     0.966883     0.000000   \n",
      "death                   0.977212  0.000000     0.955734     0.000000   \n",
      "other_aid               0.902564  0.070147     0.868993     0.111111   \n",
      "infrastructure_related  0.966416  0.000000     0.935449     0.000000   \n",
      "transport               0.975184  0.000000     0.951570     0.000000   \n",
      "buildings               0.969707  0.005236     0.947352     0.023256   \n",
      "electricity             0.990393  0.000000     0.980969     0.000000   \n",
      "tools                   0.995727  0.000000     0.991490     0.000000   \n",
      "hospitals               0.994007  0.000000     0.988086     0.000000   \n",
      "shops                   0.997518  0.000000     0.995049     0.000000   \n",
      "aid_centers             0.994477  0.000000     0.989014     0.000000   \n",
      "other_infrastructure    0.978263  0.000000     0.957598     0.000000   \n",
      "weather_related         0.799799  0.324763     0.755973     0.403701   \n",
      "floods                  0.949360  0.063348     0.915972     0.194444   \n",
      "storm                   0.951491  0.035541     0.909585     0.423077   \n",
      "fire                    0.994320  0.000000     0.988705     0.000000   \n",
      "earthquake              0.955720  0.180995     0.919360     0.674157   \n",
      "cold                    0.988813  0.000000     0.977874     0.000000   \n",
      "other_weather           0.973638  0.000000     0.949071     0.000000   \n",
      "direct_report           0.850890  0.249300     0.834334     0.276971   \n",
      "\n",
      "                        recall_0  recall_1  \n",
      "related                 0.231586  0.837276  \n",
      "request                 0.883389  0.242283  \n",
      "offer                   1.000000  0.000000  \n",
      "aid_related             0.629032  0.379534  \n",
      "medical_help            0.999498  0.000000  \n",
      "medical_products        0.999838  0.000000  \n",
      "search_and_rescue       0.999841  0.000000  \n",
      "security                1.000000  0.000000  \n",
      "military                1.000000  0.000000  \n",
      "water                   0.999343  0.000000  \n",
      "food                    0.995839  0.005755  \n",
      "shelter                 0.999156  0.005576  \n",
      "clothing                1.000000  0.000000  \n",
      "money                   1.000000  0.000000  \n",
      "missing_people          1.000000  0.000000  \n",
      "refugees                0.999840  0.000000  \n",
      "death                   0.999676  0.000000  \n",
      "other_aid               0.938834  0.051251  \n",
      "infrastructure_related  0.999504  0.000000  \n",
      "transport               1.000000  0.000000  \n",
      "buildings               0.993142  0.002950  \n",
      "electricity             1.000000  0.000000  \n",
      "tools                   1.000000  0.000000  \n",
      "hospitals               1.000000  0.000000  \n",
      "shops                   1.000000  0.000000  \n",
      "aid_centers             1.000000  0.000000  \n",
      "other_infrastructure    0.999838  0.000000  \n",
      "weather_related         0.849020  0.271647  \n",
      "floods                  0.985274  0.037838  \n",
      "storm                   0.997445  0.018550  \n",
      "fire                    1.000000  0.000000  \n",
      "earthquake              0.995076  0.104530  \n",
      "cold                    1.000000  0.000000  \n",
      "other_weather           0.999511  0.000000  \n",
      "direct_report           0.868117  0.226655  \n",
      "\n",
      "\n",
      "mean of results:\n",
      "f1_0           0.933634\n",
      "f1_1           0.068903\n",
      "precision_0    0.915725\n",
      "precision_1    0.116993\n",
      "recall_0       0.953223\n",
      "recall_1       0.062396\n",
      "dtype: float64\n",
      "\n",
      "\n",
      "<function f1_score at 0x000002B8EE100160> (weighted): 0.3149636743584306\n"
     ]
    }
   ],
   "source": [
    "report(y_test,y_pred)"
   ]
  },
  {
   "cell_type": "markdown",
   "metadata": {},
   "source": [
    "## 6 - 9. Improve your model , test your model, try improving your model further, Export your model as a pickle file. "
   ]
  },
  {
   "cell_type": "markdown",
   "metadata": {},
   "source": [
    "### I joined the parts 6 through 9. For this i made a class called Pipeline_scorer that can do the training and predict of the data and then give the requested results.\n",
    "### For time purpouses i will keep the models simple.  "
   ]
  },
  {
   "cell_type": "code",
   "execution_count": 11,
   "metadata": {
    "scrolled": true
   },
   "outputs": [],
   "source": [
    "from Pipeline_scorer import Pipeline_Scorer"
   ]
  },
  {
   "cell_type": "code",
   "execution_count": 11,
   "metadata": {
    "scrolled": true
   },
   "outputs": [],
   "source": [
    "metrics       = ['minkowski','euclidean','manhattan'] \n",
    "weights       = ['uniform','distance'] #10.0**np.arange(-5,4)\n",
    "numNeighbors  = np.arange(5,10)\n",
    "parameters_grid    = dict(clf__estimator__metric=metrics,clf__estimator__weights=weights,clf__estimator__n_neighbors=numNeighbors)\n",
    "pipe1 = Pipeline_Scorer(parameters_grid=parameters_grid,classifier=KNeighborsClassifier())"
   ]
  },
  {
   "cell_type": "code",
   "execution_count": 12,
   "metadata": {},
   "outputs": [
    {
     "name": "stdout",
     "output_type": "stream",
     "text": [
      "{'clf__estimator__metric': 'minkowski', 'clf__estimator__n_neighbors': 9, 'clf__estimator__weights': 'distance'}\n"
     ]
    }
   ],
   "source": [
    "pipe1.pipeline(X_train, y_train, X_test,y_test,jobs=-1)"
   ]
  },
  {
   "cell_type": "code",
   "execution_count": 13,
   "metadata": {
    "scrolled": true
   },
   "outputs": [
    {
     "name": "stderr",
     "output_type": "stream",
     "text": [
      "C:\\Users\\eppmi\\Anaconda3\\lib\\site-packages\\sklearn\\metrics\\_classification.py:1221: UndefinedMetricWarning: Precision and F-score are ill-defined and being set to 0.0 in labels with no predicted samples. Use `zero_division` parameter to control this behavior.\n",
      "  _warn_prf(average, modifier, msg_start, len(result))\n"
     ]
    },
    {
     "name": "stdout",
     "output_type": "stream",
     "text": [
      "Table for each column:\n",
      "                            f1_0      f1_1  precision_0  precision_1  \\\n",
      "related                 0.138075  0.850372     0.340206     0.770864   \n",
      "request                 0.896528  0.189891     0.841881     0.386111   \n",
      "offer                   0.997829  0.000000     0.995668     0.000000   \n",
      "aid_related             0.677293  0.284292     0.585598     0.435545   \n",
      "medical_help            0.957497  0.000000     0.918601     0.000000   \n",
      "medical_products        0.975347  0.000000     0.952175     0.000000   \n",
      "search_and_rescue       0.987625  0.000000     0.975553     0.000000   \n",
      "security                0.990787  0.000000     0.981894     0.000000   \n",
      "military                0.981964  0.000000     0.964568     0.000000   \n",
      "water                   0.968725  0.000000     0.939929     0.000000   \n",
      "food                    0.939797  0.000000     0.887117     0.000000   \n",
      "shelter                 0.949533  0.000000     0.904334     0.000000   \n",
      "clothing                0.992046  0.000000     0.984218     0.000000   \n",
      "money                   0.987467  0.000000     0.975244     0.000000   \n",
      "missing_people          0.994555  0.000000     0.989169     0.000000   \n",
      "refugees                0.982044  0.000000     0.964872     0.000000   \n",
      "death                   0.975103  0.000000     0.951416     0.000000   \n",
      "other_aid               0.928945  0.009249     0.871500     0.114286   \n",
      "infrastructure_related  0.966245  0.004717     0.934840     0.500000   \n",
      "transport               0.977293  0.000000     0.955593     0.000000   \n",
      "buildings               0.972496  0.000000     0.946757     0.000000   \n",
      "electricity             0.989683  0.000000     0.979576     0.000000   \n",
      "tools                   0.997518  0.000000     0.995049     0.000000   \n",
      "hospitals               0.994633  0.000000     0.989324     0.000000   \n",
      "shops                   0.997674  0.000000     0.995358     0.000000   \n",
      "aid_centers             0.994320  0.000000     0.988705     0.000000   \n",
      "other_infrastructure    0.976884  0.006803     0.954961     0.500000   \n",
      "weather_related         0.784306  0.381693     0.761654     0.417266   \n",
      "floods                  0.949307  0.051829     0.916588     0.155963   \n",
      "storm                   0.952721  0.020168     0.909992     0.750000   \n",
      "fire                    0.993616  0.000000     0.987312     0.000000   \n",
      "earthquake              0.955295  0.179641     0.916706     0.789474   \n",
      "cold                    0.988813  0.000000     0.977874     0.000000   \n",
      "other_weather           0.970696  0.000000     0.943206     0.000000   \n",
      "direct_report           0.885495  0.188868     0.822806     0.410326   \n",
      "\n",
      "                        recall_0  recall_1  \n",
      "related                 0.086614  0.948168  \n",
      "request                 0.958761  0.125906  \n",
      "offer                   1.000000  0.000000  \n",
      "aid_related             0.803034  0.211013  \n",
      "medical_help            0.999832  0.000000  \n",
      "medical_products        0.999675  0.000000  \n",
      "search_and_rescue       1.000000  0.000000  \n",
      "security                0.999842  0.000000  \n",
      "military                1.000000  0.000000  \n",
      "water                   0.999342  0.000000  \n",
      "food                    0.999128  0.000000  \n",
      "shelter                 0.999487  0.000000  \n",
      "clothing                1.000000  0.000000  \n",
      "money                   1.000000  0.000000  \n",
      "missing_people          1.000000  0.000000  \n",
      "refugees                0.999840  0.000000  \n",
      "death                   1.000000  0.000000  \n",
      "other_aid               0.994497  0.004819  \n",
      "infrastructure_related  0.999834  0.002370  \n",
      "transport               1.000000  0.000000  \n",
      "buildings               0.999673  0.000000  \n",
      "electricity             1.000000  0.000000  \n",
      "tools                   1.000000  0.000000  \n",
      "hospitals               1.000000  0.000000  \n",
      "shops                   1.000000  0.000000  \n",
      "aid_centers             1.000000  0.000000  \n",
      "other_infrastructure    0.999838  0.003425  \n",
      "weather_related         0.808346  0.351709  \n",
      "floods                  0.984449  0.031079  \n",
      "storm                   0.999660  0.010221  \n",
      "fire                    1.000000  0.000000  \n",
      "earthquake              0.997275  0.101351  \n",
      "cold                    1.000000  0.000000  \n",
      "other_weather           0.999836  0.000000  \n",
      "direct_report           0.958524  0.122665  \n",
      "\n",
      "\n",
      "mean of results:\n",
      "f1_0           0.933376\n",
      "f1_1           0.061929\n",
      "precision_0    0.914293\n",
      "precision_1    0.149424\n",
      "recall_0       0.959642\n",
      "recall_1       0.054649\n",
      "dtype: float64\n",
      "\n",
      "\n",
      "<function f1_score at 0x000001590D380160> (weighted): 0.30401005264358527\n"
     ]
    }
   ],
   "source": [
    "pipe1.report()"
   ]
  },
  {
   "cell_type": "code",
   "execution_count": 15,
   "metadata": {},
   "outputs": [],
   "source": [
    "\n",
    "pickle.dump(pipe1, open('cv_KNeighborsClassifier', \"wb\"))"
   ]
  },
  {
   "cell_type": "code",
   "execution_count": null,
   "metadata": {},
   "outputs": [],
   "source": []
  },
  {
   "cell_type": "code",
   "execution_count": 18,
   "metadata": {},
   "outputs": [],
   "source": [
    "learning_rate = [0.01,0.1] \n",
    "n_estimators = [50] #10.0**np.arange(-5,4)\n",
    "criterion = ['friedman_mse', 'mse']\n",
    "parameters_grid    = dict(clf__estimator__learning_rate=learning_rate,\n",
    "                          clf__estimator__n_estimators=n_estimators,clf__estimator__criterion=criterion)\n",
    "pipe2 = Pipeline_Scorer(parameters_grid=parameters_grid,classifier=GradientBoostingClassifier())"
   ]
  },
  {
   "cell_type": "code",
   "execution_count": 19,
   "metadata": {},
   "outputs": [
    {
     "name": "stdout",
     "output_type": "stream",
     "text": [
      "{'clf__estimator__criterion': 'friedman_mse', 'clf__estimator__learning_rate': 0.1, 'clf__estimator__n_estimators': 50}\n"
     ]
    }
   ],
   "source": [
    "pipe2.pipeline(X_train, y_train, X_test,y_test,jobs=4)"
   ]
  },
  {
   "cell_type": "code",
   "execution_count": 20,
   "metadata": {},
   "outputs": [
    {
     "name": "stderr",
     "output_type": "stream",
     "text": [
      "C:\\Users\\eppmi\\Anaconda3\\lib\\site-packages\\sklearn\\metrics\\_classification.py:1221: UndefinedMetricWarning: Precision and F-score are ill-defined and being set to 0.0 in labels with no predicted samples. Use `zero_division` parameter to control this behavior.\n",
      "  _warn_prf(average, modifier, msg_start, len(result))\n"
     ]
    },
    {
     "name": "stdout",
     "output_type": "stream",
     "text": [
      "Table for each column:\n",
      "                            f1_0      f1_1  precision_0  precision_1  \\\n",
      "related                 0.005358  0.870113     0.400000     0.770804   \n",
      "request                 0.903380  0.064463     0.830248     0.438202   \n",
      "offer                   0.995101  0.030769     0.994560     0.034483   \n",
      "aid_related             0.735367  0.040787     0.587169     0.478992   \n",
      "medical_help            0.957833  0.000000     0.919078     0.000000   \n",
      "medical_products        0.971597  0.000000     0.944762     0.000000   \n",
      "search_and_rescue       0.979392  0.000000     0.968608     0.000000   \n",
      "security                0.987381  0.035928     0.983604     0.050847   \n",
      "military                0.982362  0.008850     0.968934     0.040000   \n",
      "water                   0.966659  0.004773     0.935614     0.500000   \n",
      "food                    0.938132  0.002649     0.883746     0.333333   \n",
      "shelter                 0.951067  0.000000     0.906700     0.000000   \n",
      "clothing                0.986748  0.023121     0.982511     0.033898   \n",
      "money                   0.983880  0.019139     0.976280     0.036364   \n",
      "missing_people          0.989604  0.000000     0.987211     0.000000   \n",
      "refugees                0.982445  0.000000     0.966094     0.000000   \n",
      "death                   0.975753  0.000000     0.953096     0.000000   \n",
      "other_aid               0.928015  0.000000     0.865697     0.000000   \n",
      "infrastructure_related  0.965915  0.004673     0.934221     0.500000   \n",
      "transport               0.977050  0.000000     0.955277     0.000000   \n",
      "buildings               0.973557  0.000000     0.948476     0.000000   \n",
      "electricity             0.983957  0.028571     0.977958     0.045455   \n",
      "tools                   0.992987  0.021739     0.992833     0.022222   \n",
      "hospitals               0.990787  0.000000     0.989860     0.000000   \n",
      "shops                   0.995337  0.000000     0.995182     0.000000   \n",
      "aid_centers             0.990549  0.016260     0.988619     0.020408   \n",
      "other_infrastructure    0.975753  0.000000     0.953686     0.000000   \n",
      "weather_related         0.836899  0.172851     0.728122     0.713178   \n",
      "floods                  0.954461  0.000000     0.913313     0.000000   \n",
      "storm                   0.948273  0.107345     0.906431     0.527778   \n",
      "fire                    0.988971  0.000000     0.987812     0.000000   \n",
      "earthquake              0.953793  0.285350     0.916429     0.772414   \n",
      "cold                    0.984920  0.010309     0.979688     0.015873   \n",
      "other_weather           0.974941  0.000000     0.951106     0.000000   \n",
      "direct_report           0.891481  0.071006     0.810017     0.510638   \n",
      "\n",
      "                        recall_0  recall_1  \n",
      "related                 0.002697  0.998795  \n",
      "request                 0.990640  0.034790  \n",
      "offer                   0.995643  0.027778  \n",
      "aid_related             0.983628  0.021300  \n",
      "medical_help            1.000000  0.000000  \n",
      "medical_products        1.000000  0.000000  \n",
      "search_and_rescue       0.990418  0.000000  \n",
      "security                0.991188  0.027778  \n",
      "military                0.996167  0.004975  \n",
      "water                   0.999835  0.002398  \n",
      "food                    0.999650  0.001330  \n",
      "shelter                 1.000000  0.000000  \n",
      "clothing                0.991022  0.017544  \n",
      "money                   0.991599  0.012987  \n",
      "missing_people          0.992008  0.000000  \n",
      "refugees                0.999359  0.000000  \n",
      "death                   0.999513  0.000000  \n",
      "other_aid               1.000000  0.000000  \n",
      "infrastructure_related  0.999834  0.002347  \n",
      "transport               0.999838  0.000000  \n",
      "buildings               1.000000  0.000000  \n",
      "electricity             0.990030  0.020833  \n",
      "tools                   0.993142  0.021277  \n",
      "hospitals               0.991716  0.000000  \n",
      "shops                   0.995491  0.000000  \n",
      "aid_centers             0.992487  0.013514  \n",
      "other_infrastructure    0.998864  0.000000  \n",
      "weather_related         0.983885  0.098343  \n",
      "floods                  0.999492  0.000000  \n",
      "storm                   0.994165  0.059748  \n",
      "fire                    0.990133  0.000000  \n",
      "earthquake              0.994333  0.175000  \n",
      "cold                    0.990208  0.007634  \n",
      "other_weather           1.000000  0.000000  \n",
      "direct_report           0.991162  0.038156  \n",
      "\n",
      "\n",
      "mean of results:\n",
      "f1_0           0.931420\n",
      "f1_1           0.051963\n",
      "precision_0    0.913798\n",
      "precision_1    0.166997\n",
      "recall_0       0.966519\n",
      "recall_1       0.045329\n",
      "dtype: float64\n",
      "\n",
      "\n",
      "<function f1_score at 0x0000013147BE1160> (weighted): 0.248850434855612\n"
     ]
    }
   ],
   "source": [
    "pipe2.report()"
   ]
  },
  {
   "cell_type": "code",
   "execution_count": 21,
   "metadata": {},
   "outputs": [],
   "source": [
    "pickle.dump(pipe2, open('cv_GradientBoostingClassifier.pkl', \"wb\"))"
   ]
  },
  {
   "cell_type": "code",
   "execution_count": null,
   "metadata": {},
   "outputs": [],
   "source": []
  },
  {
   "cell_type": "code",
   "execution_count": 22,
   "metadata": {},
   "outputs": [],
   "source": [
    "max_features =[\"sqrt\", \"log2\" ]\n",
    "n_estimators = [50] \n",
    "criterion = ['gine', 'entropy']\n",
    "parameters_grid    = dict(clf__estimator__max_features=max_features,\n",
    "                          clf__estimator__n_estimators=n_estimators,clf__estimator__criterion=criterion)\n",
    "pipe3 = Pipeline_Scorer(parameters_grid=parameters_grid,classifier=RandomForestClassifier())"
   ]
  },
  {
   "cell_type": "code",
   "execution_count": 23,
   "metadata": {},
   "outputs": [
    {
     "name": "stdout",
     "output_type": "stream",
     "text": [
      "{'clf__estimator__criterion': 'entropy', 'clf__estimator__max_features': 'sqrt', 'clf__estimator__n_estimators': 50}\n"
     ]
    }
   ],
   "source": [
    "pipe3.pipeline(X_train, y_train, X_test,y_test,jobs=4)"
   ]
  },
  {
   "cell_type": "code",
   "execution_count": 24,
   "metadata": {},
   "outputs": [
    {
     "name": "stderr",
     "output_type": "stream",
     "text": [
      "C:\\Users\\eppmi\\Anaconda3\\lib\\site-packages\\sklearn\\metrics\\_classification.py:1221: UndefinedMetricWarning: Precision and F-score are ill-defined and being set to 0.0 in labels with no predicted samples. Use `zero_division` parameter to control this behavior.\n",
      "  _warn_prf(average, modifier, msg_start, len(result))\n"
     ]
    },
    {
     "name": "stdout",
     "output_type": "stream",
     "text": [
      "Table for each column:\n",
      "                            f1_0      f1_1  precision_0  precision_1  \\\n",
      "related                 0.075077  0.867003     0.429577     0.775036   \n",
      "request                 0.905837  0.072208     0.831378     0.614286   \n",
      "offer                   0.997207  0.000000     0.994430     0.000000   \n",
      "aid_related             0.704567  0.240817     0.594056     0.461376   \n",
      "medical_help            0.957581  0.000000     0.919040     0.000000   \n",
      "medical_products        0.971597  0.000000     0.944762     0.000000   \n",
      "search_and_rescue       0.984124  0.000000     0.968895     0.000000   \n",
      "security                0.991574  0.000000     0.983289     0.000000   \n",
      "military                0.984122  0.009804     0.969040     0.333333   \n",
      "water                   0.966664  0.000000     0.935479     0.000000   \n",
      "food                    0.938188  0.010526     0.884121     0.500000   \n",
      "shelter                 0.951059  0.003306     0.906826     0.500000   \n",
      "clothing                0.991023  0.000000     0.982358     0.000000   \n",
      "money                   0.987863  0.000000     0.976168     0.000000   \n",
      "missing_people          0.993616  0.000000     0.987312     0.000000   \n",
      "refugees                0.982765  0.000000     0.966115     0.000000   \n",
      "death                   0.975996  0.000000     0.953118     0.000000   \n",
      "other_aid               0.927291  0.002278     0.865644     0.100000   \n",
      "infrastructure_related  0.965837  0.000000     0.934076     0.000000   \n",
      "transport               0.976969  0.000000     0.955270     0.000000   \n",
      "buildings               0.973471  0.005952     0.948607     0.333333   \n",
      "electricity             0.988655  0.000000     0.977716     0.000000   \n",
      "tools                   0.996351  0.000000     0.992728     0.000000   \n",
      "hospitals               0.994790  0.000000     0.989940     0.000000   \n",
      "shops                   0.997518  0.000000     0.995203     0.000000   \n",
      "aid_centers             0.994242  0.000000     0.988550     0.000000   \n",
      "other_infrastructure    0.976240  0.000000     0.953729     0.000000   \n",
      "weather_related         0.832206  0.217353     0.731824     0.603406   \n",
      "floods                  0.953253  0.010292     0.913509     0.130435   \n",
      "storm                   0.948356  0.053812     0.903888     0.545455   \n",
      "fire                    0.993929  0.000000     0.987931     0.000000   \n",
      "earthquake              0.953406  0.250991     0.914119     0.811966   \n",
      "cold                    0.989446  0.000000     0.979718     0.000000   \n",
      "other_weather           0.974778  0.000000     0.951091     0.000000   \n",
      "direct_report           0.890843  0.046687     0.808071     0.442857   \n",
      "\n",
      "                        recall_0  recall_1  \n",
      "related                 0.041133  0.983735  \n",
      "request                 0.994946  0.038359  \n",
      "offer                   1.000000  0.000000  \n",
      "aid_related             0.865593  0.162930  \n",
      "medical_help            0.999495  0.000000  \n",
      "medical_products        1.000000  0.000000  \n",
      "search_and_rescue       0.999840  0.000000  \n",
      "security                1.000000  0.000000  \n",
      "military                0.999681  0.004975  \n",
      "water                   1.000000  0.000000  \n",
      "food                    0.999300  0.005319  \n",
      "shelter                 0.999829  0.001658  \n",
      "clothing                0.999842  0.000000  \n",
      "money                   0.999841  0.000000  \n",
      "missing_people          1.000000  0.000000  \n",
      "refugees                1.000000  0.000000  \n",
      "death                   1.000000  0.000000  \n",
      "other_aid               0.998391  0.001152  \n",
      "infrastructure_related  0.999834  0.000000  \n",
      "transport               0.999676  0.000000  \n",
      "buildings               0.999674  0.003003  \n",
      "electricity             0.999842  0.000000  \n",
      "tools                   1.000000  0.000000  \n",
      "hospitals               0.999687  0.000000  \n",
      "shops                   0.999845  0.000000  \n",
      "aid_centers             1.000000  0.000000  \n",
      "other_infrastructure    0.999838  0.000000  \n",
      "weather_related         0.964503  0.132549  \n",
      "floods                  0.996612  0.005357  \n",
      "storm                   0.997426  0.028302  \n",
      "fire                    1.000000  0.000000  \n",
      "earthquake              0.996222  0.148438  \n",
      "cold                    0.999368  0.000000  \n",
      "other_weather           0.999675  0.000000  \n",
      "direct_report           0.992507  0.024642  \n",
      "\n",
      "\n",
      "mean of results:\n",
      "f1_0           0.933898\n",
      "f1_1           0.051172\n",
      "precision_0    0.914788\n",
      "precision_1    0.175757\n",
      "recall_0       0.966931\n",
      "recall_1       0.044012\n",
      "dtype: float64\n",
      "\n",
      "\n",
      "<function f1_score at 0x0000013147BE1160> (weighted): 0.2737487665881577\n"
     ]
    }
   ],
   "source": [
    "pipe3.report()"
   ]
  },
  {
   "cell_type": "code",
   "execution_count": 25,
   "metadata": {},
   "outputs": [],
   "source": [
    "pickle.dump(pipe3, open('cv_RandomForestClassifier.pkl', \"wb\"))"
   ]
  },
  {
   "cell_type": "code",
   "execution_count": null,
   "metadata": {},
   "outputs": [],
   "source": []
  },
  {
   "cell_type": "code",
   "execution_count": 12,
   "metadata": {},
   "outputs": [],
   "source": [
    "learning_rate =[0.5,1 ]\n",
    "n_estimators = [50,100] \n",
    "algorithm = ['SAMME', 'SAMME.R']\n",
    "parameters_grid    = dict(clf__estimator__learning_rate= learning_rate,\n",
    "                          clf__estimator__n_estimators=n_estimators,clf__estimator__algorithm=algorithm)\n",
    "pipe4 = Pipeline_Scorer(parameters_grid=parameters_grid,classifier=AdaBoostClassifier())"
   ]
  },
  {
   "cell_type": "code",
   "execution_count": 13,
   "metadata": {},
   "outputs": [
    {
     "name": "stdout",
     "output_type": "stream",
     "text": [
      "{'clf__estimator__algorithm': 'SAMME.R', 'clf__estimator__learning_rate': 1, 'clf__estimator__n_estimators': 50}\n"
     ]
    }
   ],
   "source": [
    "pipe4.pipeline(X_train, y_train, X_test,y_test,jobs=-1)"
   ]
  },
  {
   "cell_type": "code",
   "execution_count": 14,
   "metadata": {},
   "outputs": [
    {
     "name": "stdout",
     "output_type": "stream",
     "text": [
      "{'clf__estimator__algorithm': 'SAMME.R', 'clf__estimator__learning_rate': 1, 'clf__estimator__n_estimators': 50}\n"
     ]
    }
   ],
   "source": [
    "pipe4.pipeline(X_train, y_train, X_test,y_test,jobs=4)"
   ]
  },
  {
   "cell_type": "code",
   "execution_count": 15,
   "metadata": {},
   "outputs": [
    {
     "name": "stdout",
     "output_type": "stream",
     "text": [
      "Table for each column:\n",
      "                            f1_0      f1_1  precision_0  precision_1  \\\n",
      "related                 0.081194  0.863212     0.400000     0.771651   \n",
      "request                 0.900862  0.207376     0.845450     0.435673   \n",
      "offer                   0.997674  0.000000     0.995512     0.000000   \n",
      "aid_related             0.716086  0.205173     0.596780     0.465955   \n",
      "medical_help            0.958330  0.003854     0.921563     0.083333   \n",
      "medical_products        0.974615  0.000000     0.951223     0.000000   \n",
      "search_and_rescue       0.986750  0.011696     0.974299     0.250000   \n",
      "security                0.991102  0.000000     0.982513     0.000000   \n",
      "military                0.981643  0.000000     0.966341     0.000000   \n",
      "water                   0.967242  0.000000     0.937432     0.000000   \n",
      "food                    0.940202  0.008163     0.890875     0.100000   \n",
      "shelter                 0.952751  0.006814     0.912166     0.105263   \n",
      "clothing                0.991727  0.070175     0.985420     0.250000   \n",
      "money                   0.988732  0.013699     0.978019     0.333333   \n",
      "missing_people          0.994946  0.000000     0.990249     0.000000   \n",
      "refugees                0.981721  0.008547     0.965293     0.111111   \n",
      "death                   0.976888  0.000000     0.955263     0.000000   \n",
      "other_aid               0.930664  0.002381     0.872614     0.055556   \n",
      "infrastructure_related  0.964180  0.000000     0.931125     0.000000   \n",
      "transport               0.976564  0.000000     0.954792     0.000000   \n",
      "buildings               0.972578  0.000000     0.947646     0.000000   \n",
      "electricity             0.990866  0.000000     0.982657     0.000000   \n",
      "tools                   0.997052  0.000000     0.994274     0.000000   \n",
      "hospitals               0.994555  0.000000     0.989475     0.000000   \n",
      "shops                   0.997129  0.000000     0.995045     0.000000   \n",
      "aid_centers             0.994164  0.000000     0.988854     0.000000   \n",
      "other_infrastructure    0.975022  0.000000     0.951703     0.000000   \n",
      "weather_related         0.839051  0.273774     0.754804     0.551546   \n",
      "floods                  0.955960  0.010889     0.918193     0.142857   \n",
      "storm                   0.950675  0.139800     0.915406     0.426087   \n",
      "fire                    0.993537  0.000000     0.988228     0.000000   \n",
      "earthquake              0.956401  0.239658     0.920485     0.750000   \n",
      "cold                    0.990156  0.000000     0.980808     0.000000   \n",
      "other_weather           0.973883  0.000000     0.949683     0.000000   \n",
      "direct_report           0.886542  0.176358     0.820998     0.419453   \n",
      "\n",
      "                        recall_0  recall_1  \n",
      "related                 0.045183  0.979427  \n",
      "request                 0.964046  0.136073  \n",
      "offer                   0.999845  0.000000  \n",
      "aid_related             0.895013  0.131549  \n",
      "medical_help            0.998153  0.001972  \n",
      "medical_products        0.999187  0.000000  \n",
      "search_and_rescue       0.999524  0.005988  \n",
      "security                0.999843  0.000000  \n",
      "military                0.997438  0.000000  \n",
      "water                   0.999010  0.000000  \n",
      "food                    0.995311  0.004255  \n",
      "shelter                 0.997116  0.003521  \n",
      "clothing                0.998115  0.040816  \n",
      "money                   0.999684  0.006993  \n",
      "missing_people          0.999687  0.000000  \n",
      "refugees                0.998718  0.004444  \n",
      "death                   0.999514  0.000000  \n",
      "other_aid               0.996986  0.001217  \n",
      "infrastructure_related  0.999668  0.000000  \n",
      "transport               0.999352  0.000000  \n",
      "buildings               0.998857  0.000000  \n",
      "electricity             0.999213  0.000000  \n",
      "tools                   0.999844  0.000000  \n",
      "hospitals               0.999687  0.000000  \n",
      "shops                   0.999223  0.000000  \n",
      "aid_centers             0.999531  0.000000  \n",
      "other_infrastructure    0.999512  0.000000  \n",
      "weather_related         0.944468  0.182076  \n",
      "floods                  0.996966  0.005660  \n",
      "storm                   0.988770  0.083618  \n",
      "fire                    0.998904  0.000000  \n",
      "earthquake              0.995233  0.142615  \n",
      "cold                    0.999684  0.000000  \n",
      "other_weather           0.999348  0.000000  \n",
      "direct_report           0.963459  0.111650  \n",
      "\n",
      "\n",
      "mean of results:\n",
      "f1_0           0.934898\n",
      "f1_1           0.064045\n",
      "precision_0    0.917291\n",
      "precision_1    0.150052\n",
      "recall_0       0.964688\n",
      "recall_1       0.052625\n",
      "dtype: float64\n",
      "\n",
      "\n",
      "f1-score (weighted): 0.295792377543998\n"
     ]
    }
   ],
   "source": [
    "pipe4.report()"
   ]
  },
  {
   "cell_type": "code",
   "execution_count": 16,
   "metadata": {},
   "outputs": [],
   "source": [
    "pickle.dump(pipe4, open('cv_Adabosst.pkl', \"wb\"))"
   ]
  },
  {
   "cell_type": "code",
   "execution_count": null,
   "metadata": {},
   "outputs": [],
   "source": []
  },
  {
   "cell_type": "markdown",
   "metadata": {},
   "source": [
    "### 10. Use this notebook to complete `train.py`\n",
    "Use the template file attached in the Resources folder to write a script that runs the steps above to create a database and export a model based on a new dataset specified by the user."
   ]
  },
  {
   "cell_type": "code",
   "execution_count": null,
   "metadata": {},
   "outputs": [],
   "source": []
  }
 ],
 "metadata": {
  "kernelspec": {
   "display_name": "Python 3",
   "language": "python",
   "name": "python3"
  },
  "language_info": {
   "codemirror_mode": {
    "name": "ipython",
    "version": 3
   },
   "file_extension": ".py",
   "mimetype": "text/x-python",
   "name": "python",
   "nbconvert_exporter": "python",
   "pygments_lexer": "ipython3",
   "version": "3.8.5"
  }
 },
 "nbformat": 4,
 "nbformat_minor": 2
}
